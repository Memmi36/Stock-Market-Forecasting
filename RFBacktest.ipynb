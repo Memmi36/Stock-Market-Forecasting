{
 "cells": [
  {
   "cell_type": "code",
   "execution_count": null,
   "metadata": {},
   "outputs": [],
   "source": [
    "def predict(train,test,predictors,model):\n",
    "    model.fit(train[predictors],train[\"Close\"])\n",
    "    preds=model.predict(test[predictors])\n",
    "    preds= pd.Series(preds, index=test.index,name=\"Predictions\")\n",
    "    combined=pd.concat([test[\"Close\"],preds],axis=1)\n",
    "    return combined"
   ]
  },
  {
   "cell_type": "code",
   "execution_count": null,
   "metadata": {},
   "outputs": [],
   "source": [
    "def backtest(data,model,predictors,start=500,step=50):\n",
    "    all_predictions=[]\n",
    "    for i in range(start,data.shape[0],step):\n",
    "        train=data.iloc[0:i].copy()\n",
    "        test=data.iloc[i:(i+step)].copy()\n",
    "        predictions=predict(train,test,predictors,model)\n",
    "        all_predictions.append(predictions)\n",
    "    return pd.concat(all_predictions)"
   ]
  },
  {
   "cell_type": "code",
   "execution_count": null,
   "metadata": {},
   "outputs": [],
   "source": [
    "preds=backtest(data,model,predictors,100,10)"
   ]
  },
  {
   "cell_type": "code",
   "execution_count": null,
   "metadata": {},
   "outputs": [
    {
     "name": "stdout",
     "output_type": "stream",
     "text": [
      "Mean Absolute Error with Backtest: 14.1196\n",
      "Mean Squared Error with Backtest: 507.1741\n",
      "Root Mean Squared Error with Backtest: 22.5205\n",
      "Accuracy with Backtest: 99.46 %.\n"
     ]
    }
   ],
   "source": [
    "from sklearn import metrics\n",
    "import numpy as np\n",
    "\n",
    "print(\"Mean Absolute Error with Backtest:\", round(metrics.mean_absolute_error(preds[\"Close\"],preds[\"Predictions\"]), 4))\n",
    "print(\"Mean Squared Error with Backtest:\", round(metrics.mean_squared_error(preds[\"Close\"],preds[\"Predictions\"]), 4))\n",
    "print(\"Root Mean Squared Error with Backtest:\", round(np.sqrt(metrics.mean_squared_error(preds[\"Close\"],preds[\"Predictions\"])), 4))\n",
    "errors = abs(preds[\"Close\"]-preds[\"Predictions\"])\n",
    "mape = 100 * (errors / preds[\"Close\"])\n",
    "accuracy = 100 - np.mean(mape)\n",
    "print('Accuracy with Backtest:', round(accuracy, 2), '%.') "
   ]
  },
  {
   "cell_type": "code",
   "execution_count": null,
   "metadata": {},
   "outputs": [
    {
     "data": {
      "text/plain": [
       "<AxesSubplot:xlabel='Date'>"
      ]
     },
     "metadata": {},
     "output_type": "display_data"
    },
    {
     "data": {
      "image/png": "[encoded data removed]",
      "text/plain": [
       "<Figure size 432x288 with 1 Axes>"
      ]
     },
     "metadata": {},
     "output_type": "display_data"
    }
   ],
   "source": [
    "preds.plot()"
   ]
  },
  {
   "cell_type": "code",
   "execution_count": null,
   "metadata": {},
   "outputs": [
    {
     "data": {
      "text/html": [
       "<div>\n",
       "<style scoped>\n",
       "    .dataframe tbody tr th:only-of-type {\n",
       "        vertical-align: middle;\n",
       "    }\n",
       "\n",
       "    .dataframe tbody tr th {\n",
       "        vertical-align: top;\n",
       "    }\n",
       "\n",
       "    .dataframe thead th {\n",
       "        text-align: right;\n",
       "    }\n",
       "</style>\n",
       "<table border=\"1\" class=\"dataframe\">\n",
       "  <thead>\n",
       "    <tr style=\"text-align: right;\">\n",
       "      <th></th>\n",
       "      <th>Close</th>\n",
       "      <th>Predictions</th>\n",
       "      <th>residuals</th>\n",
       "      <th>Risk Level</th>\n",
       "    </tr>\n",
       "    <tr>\n",
       "      <th>Date</th>\n",
       "      <th></th>\n",
       "      <th></th>\n",
       "      <th></th>\n",
       "      <th></th>\n",
       "    </tr>\n",
       "  </thead>\n",
       "  <tbody>\n",
       "    <tr>\n",
       "      <th>2010-08-06</th>\n",
       "      <td>1121.640015</td>\n",
       "      <td>1118.178493</td>\n",
       "      <td>3.461522</td>\n",
       "      <td>Low Risk</td>\n",
       "    </tr>\n",
       "    <tr>\n",
       "      <th>2010-08-09</th>\n",
       "      <td>1127.790039</td>\n",
       "      <td>1134.124010</td>\n",
       "      <td>-6.333971</td>\n",
       "      <td>Low Risk</td>\n",
       "    </tr>\n",
       "    <tr>\n",
       "      <th>2010-08-10</th>\n",
       "      <td>1121.060059</td>\n",
       "      <td>1122.050932</td>\n",
       "      <td>-0.990873</td>\n",
       "      <td>Low Risk</td>\n",
       "    </tr>\n",
       "    <tr>\n",
       "      <th>2010-08-11</th>\n",
       "      <td>1089.469971</td>\n",
       "      <td>1103.570925</td>\n",
       "      <td>-14.100955</td>\n",
       "      <td>Moderate Risk</td>\n",
       "    </tr>\n",
       "    <tr>\n",
       "      <th>2010-08-12</th>\n",
       "      <td>1083.609985</td>\n",
       "      <td>1085.352795</td>\n",
       "      <td>-1.742810</td>\n",
       "      <td>Low Risk</td>\n",
       "    </tr>\n",
       "    <tr>\n",
       "      <th>...</th>\n",
       "      <td>...</td>\n",
       "      <td>...</td>\n",
       "      <td>...</td>\n",
       "      <td>...</td>\n",
       "    </tr>\n",
       "    <tr>\n",
       "      <th>2023-09-26</th>\n",
       "      <td>4273.529785</td>\n",
       "      <td>4283.515178</td>\n",
       "      <td>-9.985393</td>\n",
       "      <td>Low Risk</td>\n",
       "    </tr>\n",
       "    <tr>\n",
       "      <th>2023-09-27</th>\n",
       "      <td>4274.509766</td>\n",
       "      <td>4272.117615</td>\n",
       "      <td>2.392151</td>\n",
       "      <td>Low Risk</td>\n",
       "    </tr>\n",
       "    <tr>\n",
       "      <th>2023-09-28</th>\n",
       "      <td>4299.700195</td>\n",
       "      <td>4299.589468</td>\n",
       "      <td>0.110728</td>\n",
       "      <td>Low Risk</td>\n",
       "    </tr>\n",
       "    <tr>\n",
       "      <th>2023-09-29</th>\n",
       "      <td>4288.049805</td>\n",
       "      <td>4294.905583</td>\n",
       "      <td>-6.855779</td>\n",
       "      <td>Low Risk</td>\n",
       "    </tr>\n",
       "    <tr>\n",
       "      <th>2023-10-02</th>\n",
       "      <td>4263.640137</td>\n",
       "      <td>4280.023496</td>\n",
       "      <td>-16.383359</td>\n",
       "      <td>Very Risky</td>\n",
       "    </tr>\n",
       "  </tbody>\n",
       "</table>\n",
       "<p>3311 rows × 4 columns</p>\n",
       "</div>"
      ],
      "text/plain": [
       "                  Close  Predictions  residuals     Risk Level\n",
       "Date                                                          \n",
       "2010-08-06  1121.640015  1118.178493   3.461522       Low Risk\n",
       "2010-08-09  1127.790039  1134.124010  -6.333971       Low Risk\n",
       "2010-08-10  1121.060059  1122.050932  -0.990873       Low Risk\n",
       "2010-08-11  1089.469971  1103.570925 -14.100955  Moderate Risk\n",
       "2010-08-12  1083.609985  1085.352795  -1.742810       Low Risk\n",
       "...                 ...          ...        ...            ...\n",
       "2023-09-26  4273.529785  4283.515178  -9.985393       Low Risk\n",
       "2023-09-27  4274.509766  4272.117615   2.392151       Low Risk\n",
       "2023-09-28  4299.700195  4299.589468   0.110728       Low Risk\n",
       "2023-09-29  4288.049805  4294.905583  -6.855779       Low Risk\n",
       "2023-10-02  4263.640137  4280.023496 -16.383359     Very Risky\n",
       "\n",
       "[3311 rows x 4 columns]"
      ]
     },
     "metadata": {},
     "output_type": "display_data"
    }
   ],
   "source": [
    "preds['residuals'] = preds['Close'] - preds['Predictions']\n",
    "\n",
    "high_risk_threshold =15\n",
    "moderate_risk_threshold = 20\n",
    "low_risk_threshold = 10\n",
    "\n",
    "def categorize_risk(residual):\n",
    "    if abs(residual) > high_risk_threshold:\n",
    "        return 'Very Risky'\n",
    "    elif abs(residual) > moderate_risk_threshold:\n",
    "        return 'Risky'\n",
    "    elif abs(residual) > low_risk_threshold:\n",
    "        return 'Moderate Risk'\n",
    "    else:\n",
    "        return 'Low Risk'\n",
    "\n",
    "preds['Risk Level'] = preds['residuals'].apply(categorize_risk)\n",
    "\n",
    "preds"
   ]
  }
 ],
 "metadata": {
  "language_info": {
   "name": "python"
  }
 },
 "nbformat": 4,
 "nbformat_minor": 2
}
