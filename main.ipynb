{
 "cells": [
  {
   "cell_type": "markdown",
   "id": "7d5432b0",
   "metadata": {},
   "source": [
    "### Sélection d'une seule action"
   ]
  },
  {
   "cell_type": "code",
   "execution_count": 1,
   "id": "b01046c6",
   "metadata": {},
   "outputs": [],
   "source": [
    "import yfinance as yf"
   ]
  },
  {
   "cell_type": "code",
   "execution_count": 2,
   "id": "fb50d855",
   "metadata": {},
   "outputs": [],
   "source": [
    "import datetime \n",
    "INTERVAL = '1d'    \n",
    "symbol = '^GSPC'      "
   ]
  },
  {
   "cell_type": "markdown",
   "id": "bf7a3257",
   "metadata": {},
   "source": [
    "### Collecte des données"
   ]
  },
  {
   "cell_type": "code",
   "execution_count": 3,
   "id": "02f25785",
   "metadata": {},
   "outputs": [
    {
     "name": "stdout",
     "output_type": "stream",
     "text": [
      "[*********************100%***********************]  1 of 1 completed\n"
     ]
    }
   ],
   "source": [
    "start = \"2010-01-01\"\n",
    "end = datetime.datetime.today()\n",
    "\n",
    "data = yf.download(symbol, start=start, end=end, interval=INTERVAL)"
   ]
  },
  {
   "cell_type": "code",
   "execution_count": 4,
   "id": "182597a3",
   "metadata": {},
   "outputs": [
    {
     "data": {
      "text/html": [
       "<div>\n",
       "<style scoped>\n",
       "    .dataframe tbody tr th:only-of-type {\n",
       "        vertical-align: middle;\n",
       "    }\n",
       "\n",
       "    .dataframe tbody tr th {\n",
       "        vertical-align: top;\n",
       "    }\n",
       "\n",
       "    .dataframe thead th {\n",
       "        text-align: right;\n",
       "    }\n",
       "</style>\n",
       "<table border=\"1\" class=\"dataframe\">\n",
       "  <thead>\n",
       "    <tr style=\"text-align: right;\">\n",
       "      <th></th>\n",
       "      <th>Open</th>\n",
       "      <th>High</th>\n",
       "      <th>Low</th>\n",
       "      <th>Close</th>\n",
       "      <th>Adj Close</th>\n",
       "      <th>Volume</th>\n",
       "    </tr>\n",
       "    <tr>\n",
       "      <th>Date</th>\n",
       "      <th></th>\n",
       "      <th></th>\n",
       "      <th></th>\n",
       "      <th></th>\n",
       "      <th></th>\n",
       "      <th></th>\n",
       "    </tr>\n",
       "  </thead>\n",
       "  <tbody>\n",
       "    <tr>\n",
       "      <th>2010-01-04</th>\n",
       "      <td>1116.560059</td>\n",
       "      <td>1133.869995</td>\n",
       "      <td>1116.560059</td>\n",
       "      <td>1132.989990</td>\n",
       "      <td>1132.989990</td>\n",
       "      <td>3991400000</td>\n",
       "    </tr>\n",
       "    <tr>\n",
       "      <th>2010-01-05</th>\n",
       "      <td>1132.660034</td>\n",
       "      <td>1136.630005</td>\n",
       "      <td>1129.660034</td>\n",
       "      <td>1136.520020</td>\n",
       "      <td>1136.520020</td>\n",
       "      <td>2491020000</td>\n",
       "    </tr>\n",
       "    <tr>\n",
       "      <th>2010-01-06</th>\n",
       "      <td>1135.709961</td>\n",
       "      <td>1139.189941</td>\n",
       "      <td>1133.949951</td>\n",
       "      <td>1137.140015</td>\n",
       "      <td>1137.140015</td>\n",
       "      <td>4972660000</td>\n",
       "    </tr>\n",
       "    <tr>\n",
       "      <th>2010-01-07</th>\n",
       "      <td>1136.270020</td>\n",
       "      <td>1142.459961</td>\n",
       "      <td>1131.319946</td>\n",
       "      <td>1141.689941</td>\n",
       "      <td>1141.689941</td>\n",
       "      <td>5270680000</td>\n",
       "    </tr>\n",
       "    <tr>\n",
       "      <th>2010-01-08</th>\n",
       "      <td>1140.520020</td>\n",
       "      <td>1145.390015</td>\n",
       "      <td>1136.219971</td>\n",
       "      <td>1144.979980</td>\n",
       "      <td>1144.979980</td>\n",
       "      <td>4389590000</td>\n",
       "    </tr>\n",
       "    <tr>\n",
       "      <th>...</th>\n",
       "      <td>...</td>\n",
       "      <td>...</td>\n",
       "      <td>...</td>\n",
       "      <td>...</td>\n",
       "      <td>...</td>\n",
       "      <td>...</td>\n",
       "    </tr>\n",
       "    <tr>\n",
       "      <th>2023-09-26</th>\n",
       "      <td>4312.879883</td>\n",
       "      <td>4313.009766</td>\n",
       "      <td>4265.979980</td>\n",
       "      <td>4273.529785</td>\n",
       "      <td>4273.529785</td>\n",
       "      <td>3472340000</td>\n",
       "    </tr>\n",
       "    <tr>\n",
       "      <th>2023-09-27</th>\n",
       "      <td>4282.629883</td>\n",
       "      <td>4292.069824</td>\n",
       "      <td>4238.629883</td>\n",
       "      <td>4274.509766</td>\n",
       "      <td>4274.509766</td>\n",
       "      <td>3875880000</td>\n",
       "    </tr>\n",
       "    <tr>\n",
       "      <th>2023-09-28</th>\n",
       "      <td>4269.649902</td>\n",
       "      <td>4317.270020</td>\n",
       "      <td>4264.379883</td>\n",
       "      <td>4299.700195</td>\n",
       "      <td>4299.700195</td>\n",
       "      <td>3846230000</td>\n",
       "    </tr>\n",
       "    <tr>\n",
       "      <th>2023-09-29</th>\n",
       "      <td>4328.180176</td>\n",
       "      <td>4333.149902</td>\n",
       "      <td>4274.859863</td>\n",
       "      <td>4288.049805</td>\n",
       "      <td>4288.049805</td>\n",
       "      <td>3865960000</td>\n",
       "    </tr>\n",
       "    <tr>\n",
       "      <th>2023-10-02</th>\n",
       "      <td>4284.520020</td>\n",
       "      <td>4300.580078</td>\n",
       "      <td>4260.209961</td>\n",
       "      <td>4263.640137</td>\n",
       "      <td>4263.640137</td>\n",
       "      <td>1521664000</td>\n",
       "    </tr>\n",
       "  </tbody>\n",
       "</table>\n",
       "<p>3460 rows × 6 columns</p>\n",
       "</div>"
      ],
      "text/plain": [
       "                   Open         High          Low        Close    Adj Close  \\\n",
       "Date                                                                          \n",
       "2010-01-04  1116.560059  1133.869995  1116.560059  1132.989990  1132.989990   \n",
       "2010-01-05  1132.660034  1136.630005  1129.660034  1136.520020  1136.520020   \n",
       "2010-01-06  1135.709961  1139.189941  1133.949951  1137.140015  1137.140015   \n",
       "2010-01-07  1136.270020  1142.459961  1131.319946  1141.689941  1141.689941   \n",
       "2010-01-08  1140.520020  1145.390015  1136.219971  1144.979980  1144.979980   \n",
       "...                 ...          ...          ...          ...          ...   \n",
       "2023-09-26  4312.879883  4313.009766  4265.979980  4273.529785  4273.529785   \n",
       "2023-09-27  4282.629883  4292.069824  4238.629883  4274.509766  4274.509766   \n",
       "2023-09-28  4269.649902  4317.270020  4264.379883  4299.700195  4299.700195   \n",
       "2023-09-29  4328.180176  4333.149902  4274.859863  4288.049805  4288.049805   \n",
       "2023-10-02  4284.520020  4300.580078  4260.209961  4263.640137  4263.640137   \n",
       "\n",
       "                Volume  \n",
       "Date                    \n",
       "2010-01-04  3991400000  \n",
       "2010-01-05  2491020000  \n",
       "2010-01-06  4972660000  \n",
       "2010-01-07  5270680000  \n",
       "2010-01-08  4389590000  \n",
       "...                ...  \n",
       "2023-09-26  3472340000  \n",
       "2023-09-27  3875880000  \n",
       "2023-09-28  3846230000  \n",
       "2023-09-29  3865960000  \n",
       "2023-10-02  1521664000  \n",
       "\n",
       "[3460 rows x 6 columns]"
      ]
     },
     "execution_count": 4,
     "metadata": {},
     "output_type": "execute_result"
    }
   ],
   "source": [
    "data"
   ]
  },
  {
   "cell_type": "code",
   "execution_count": 5,
   "id": "9b6272f2",
   "metadata": {},
   "outputs": [
    {
     "data": {
      "text/plain": [
       "(array([278., 373., 185., 144., 240., 455., 123., 176., 177., 268., 141.,\n",
       "         87.,  71.,  41.,  98., 143., 156., 124., 133.,  47.]),\n",
       " array([1022.58001709, 1211.27901917, 1399.97802124, 1588.67702332,\n",
       "        1777.37602539, 1966.07502747, 2154.77402954, 2343.47303162,\n",
       "        2532.17203369, 2720.87103577, 2909.57003784, 3098.26903992,\n",
       "        3286.96804199, 3475.66704407, 3664.36604614, 3853.06504822,\n",
       "        4041.76405029, 4230.46305237, 4419.16205444, 4607.86105652,\n",
       "        4796.56005859]),\n",
       " <BarContainer object of 20 artists>)"
      ]
     },
     "execution_count": 5,
     "metadata": {},
     "output_type": "execute_result"
    },
    {
     "data": {
      "image/png": "[encoded data removed]",
      "text/plain": [
       "<Figure size 432x288 with 1 Axes>"
      ]
     },
     "metadata": {
      "needs_background": "light"
     },
     "output_type": "display_data"
    }
   ],
   "source": [
    "import matplotlib.pyplot as plt\n",
    "\n",
    "df = data['Close']\n",
    "\n",
    "# Create a histogram to visualize the data distribution\n",
    "plt.hist(df, bins=20, color='skyblue', edgecolor='black')"
   ]
  },
  {
   "cell_type": "code",
   "execution_count": 6,
   "id": "3301d396",
   "metadata": {},
   "outputs": [
    {
     "data": {
      "text/html": [
       "<div>\n",
       "<style scoped>\n",
       "    .dataframe tbody tr th:only-of-type {\n",
       "        vertical-align: middle;\n",
       "    }\n",
       "\n",
       "    .dataframe tbody tr th {\n",
       "        vertical-align: top;\n",
       "    }\n",
       "\n",
       "    .dataframe thead th {\n",
       "        text-align: right;\n",
       "    }\n",
       "</style>\n",
       "<table border=\"1\" class=\"dataframe\">\n",
       "  <thead>\n",
       "    <tr style=\"text-align: right;\">\n",
       "      <th></th>\n",
       "      <th>Open</th>\n",
       "      <th>High</th>\n",
       "      <th>Low</th>\n",
       "      <th>Close</th>\n",
       "      <th>Adj Close</th>\n",
       "      <th>Volume</th>\n",
       "    </tr>\n",
       "  </thead>\n",
       "  <tbody>\n",
       "    <tr>\n",
       "      <th>count</th>\n",
       "      <td>3460.000000</td>\n",
       "      <td>3460.000000</td>\n",
       "      <td>3460.000000</td>\n",
       "      <td>3460.000000</td>\n",
       "      <td>3460.000000</td>\n",
       "      <td>3.460000e+03</td>\n",
       "    </tr>\n",
       "    <tr>\n",
       "      <th>mean</th>\n",
       "      <td>2500.000064</td>\n",
       "      <td>2513.693931</td>\n",
       "      <td>2485.255560</td>\n",
       "      <td>2500.453355</td>\n",
       "      <td>2500.453355</td>\n",
       "      <td>3.940987e+09</td>\n",
       "    </tr>\n",
       "    <tr>\n",
       "      <th>std</th>\n",
       "      <td>1047.771525</td>\n",
       "      <td>1054.068980</td>\n",
       "      <td>1041.047711</td>\n",
       "      <td>1047.723837</td>\n",
       "      <td>1047.723837</td>\n",
       "      <td>9.647344e+08</td>\n",
       "    </tr>\n",
       "    <tr>\n",
       "      <th>min</th>\n",
       "      <td>1027.650024</td>\n",
       "      <td>1032.949951</td>\n",
       "      <td>1010.909973</td>\n",
       "      <td>1022.580017</td>\n",
       "      <td>1022.580017</td>\n",
       "      <td>1.025000e+09</td>\n",
       "    </tr>\n",
       "    <tr>\n",
       "      <th>25%</th>\n",
       "      <td>1633.687500</td>\n",
       "      <td>1643.595032</td>\n",
       "      <td>1627.287476</td>\n",
       "      <td>1633.752502</td>\n",
       "      <td>1633.752502</td>\n",
       "      <td>3.359130e+09</td>\n",
       "    </tr>\n",
       "    <tr>\n",
       "      <th>50%</th>\n",
       "      <td>2185.625000</td>\n",
       "      <td>2188.255005</td>\n",
       "      <td>2179.899902</td>\n",
       "      <td>2186.689941</td>\n",
       "      <td>2186.689941</td>\n",
       "      <td>3.778535e+09</td>\n",
       "    </tr>\n",
       "    <tr>\n",
       "      <th>75%</th>\n",
       "      <td>3164.490051</td>\n",
       "      <td>3184.817444</td>\n",
       "      <td>3143.049927</td>\n",
       "      <td>3169.085022</td>\n",
       "      <td>3169.085022</td>\n",
       "      <td>4.320378e+09</td>\n",
       "    </tr>\n",
       "    <tr>\n",
       "      <th>max</th>\n",
       "      <td>4804.509766</td>\n",
       "      <td>4818.620117</td>\n",
       "      <td>4780.040039</td>\n",
       "      <td>4796.560059</td>\n",
       "      <td>4796.560059</td>\n",
       "      <td>1.061781e+10</td>\n",
       "    </tr>\n",
       "  </tbody>\n",
       "</table>\n",
       "</div>"
      ],
      "text/plain": [
       "              Open         High          Low        Close    Adj Close  \\\n",
       "count  3460.000000  3460.000000  3460.000000  3460.000000  3460.000000   \n",
       "mean   2500.000064  2513.693931  2485.255560  2500.453355  2500.453355   \n",
       "std    1047.771525  1054.068980  1041.047711  1047.723837  1047.723837   \n",
       "min    1027.650024  1032.949951  1010.909973  1022.580017  1022.580017   \n",
       "25%    1633.687500  1643.595032  1627.287476  1633.752502  1633.752502   \n",
       "50%    2185.625000  2188.255005  2179.899902  2186.689941  2186.689941   \n",
       "75%    3164.490051  3184.817444  3143.049927  3169.085022  3169.085022   \n",
       "max    4804.509766  4818.620117  4780.040039  4796.560059  4796.560059   \n",
       "\n",
       "             Volume  \n",
       "count  3.460000e+03  \n",
       "mean   3.940987e+09  \n",
       "std    9.647344e+08  \n",
       "min    1.025000e+09  \n",
       "25%    3.359130e+09  \n",
       "50%    3.778535e+09  \n",
       "75%    4.320378e+09  \n",
       "max    1.061781e+10  "
      ]
     },
     "execution_count": 6,
     "metadata": {},
     "output_type": "execute_result"
    }
   ],
   "source": [
    "data.describe()"
   ]
  },
  {
   "cell_type": "code",
   "execution_count": 7,
   "id": "5d182e9e",
   "metadata": {},
   "outputs": [],
   "source": [
    "del data[\"Adj Close\"]"
   ]
  },
  {
   "cell_type": "code",
   "execution_count": 8,
   "id": "ffc08b96",
   "metadata": {},
   "outputs": [
    {
     "data": {
      "text/plain": [
       "<AxesSubplot:>"
      ]
     },
     "execution_count": 8,
     "metadata": {},
     "output_type": "execute_result"
    },
    {
     "data": {
      "image/png": "[encoded data removed]",
      "text/plain": [
       "<Figure size 432x288 with 1 Axes>"
      ]
     },
     "metadata": {
      "needs_background": "light"
     },
     "output_type": "display_data"
    }
   ],
   "source": [
    "data.plot.line(y=\"Close\", use_index=False)"
   ]
  },
  {
   "cell_type": "code",
   "execution_count": 9,
   "id": "316dbce0",
   "metadata": {},
   "outputs": [
    {
     "data": {
      "image/png": "[encoded data removed]",
      "text/plain": [
       "<Figure size 432x288 with 1 Axes>"
      ]
     },
     "metadata": {
      "needs_background": "light"
     },
     "output_type": "display_data"
    }
   ],
   "source": [
    "import matplotlib.pyplot as plt\n",
    "\n",
    "# Histogramme de Adj Close\n",
    "plt.hist(data['Close'], bins=10)\n",
    "plt.xlabel('Adjusted Close Prices')\n",
    "plt.ylabel('Frequency')\n",
    "\n",
    "plt.show()"
   ]
  },
  {
   "cell_type": "code",
   "execution_count": 10,
   "id": "fc4ea86a",
   "metadata": {},
   "outputs": [
    {
     "data": {
      "text/plain": [
       "<AxesSubplot:title={'center':'Adjusted Close Prices - 200-Day Moving Average'}, xlabel='Date'>"
      ]
     },
     "execution_count": 10,
     "metadata": {},
     "output_type": "execute_result"
    },
    {
     "data": {
      "image/png": "[encoded data removed]",
      "text/plain": [
       "<Figure size 432x288 with 1 Axes>"
      ]
     },
     "metadata": {
      "needs_background": "light"
     },
     "output_type": "display_data"
    }
   ],
   "source": [
    "df=data['Close']\n",
    "moving_average = df.rolling(\n",
    "    window=200,       \n",
    "    center=True,      \n",
    "    min_periods=100,  \n",
    ").mean()              \n",
    "\n",
    "ax = df.plot(style=\".\", color=\"0.25\")\n",
    "moving_average.plot(\n",
    "    ax=ax, linewidth=3, title=\"Adjusted Close Prices - 200-Day Moving Average\", legend=False\n",
    ")\n"
   ]
  },
  {
   "cell_type": "code",
   "execution_count": 11,
   "id": "34a1c5c7",
   "metadata": {},
   "outputs": [],
   "source": [
    "# Calculer la moyenne mobile sur 50 jours\n",
    "data['SMA_50'] = data['Close'].rolling(window=50).mean()\n",
    "\n",
    "# Calculer le RSI sur 14 jours\n",
    "change = data['Close'].diff()\n",
    "gain = change.mask(change < 0, 0)\n",
    "loss = -change.mask(change > 0, 0)\n",
    "avg_gain = gain.rolling(window=14).mean()\n",
    "avg_loss = loss.rolling(window=14).mean()\n",
    "rs = avg_gain / avg_loss\n",
    "data['RSI'] = 100 - (100 / (1 + rs))"
   ]
  },
  {
   "cell_type": "code",
   "execution_count": 12,
   "id": "4d53c092",
   "metadata": {},
   "outputs": [],
   "source": [
    "df1=data.dropna()"
   ]
  },
  {
   "cell_type": "code",
   "execution_count": 13,
   "id": "fd9e7373",
   "metadata": {},
   "outputs": [
    {
     "data": {
      "text/html": [
       "<div>\n",
       "<style scoped>\n",
       "    .dataframe tbody tr th:only-of-type {\n",
       "        vertical-align: middle;\n",
       "    }\n",
       "\n",
       "    .dataframe tbody tr th {\n",
       "        vertical-align: top;\n",
       "    }\n",
       "\n",
       "    .dataframe thead th {\n",
       "        text-align: right;\n",
       "    }\n",
       "</style>\n",
       "<table border=\"1\" class=\"dataframe\">\n",
       "  <thead>\n",
       "    <tr style=\"text-align: right;\">\n",
       "      <th></th>\n",
       "      <th>Open</th>\n",
       "      <th>High</th>\n",
       "      <th>Low</th>\n",
       "      <th>Close</th>\n",
       "      <th>Volume</th>\n",
       "      <th>SMA_50</th>\n",
       "      <th>RSI</th>\n",
       "    </tr>\n",
       "    <tr>\n",
       "      <th>Date</th>\n",
       "      <th></th>\n",
       "      <th></th>\n",
       "      <th></th>\n",
       "      <th></th>\n",
       "      <th></th>\n",
       "      <th></th>\n",
       "      <th></th>\n",
       "    </tr>\n",
       "  </thead>\n",
       "  <tbody>\n",
       "    <tr>\n",
       "      <th>2010-03-16</th>\n",
       "      <td>1150.829956</td>\n",
       "      <td>1160.280029</td>\n",
       "      <td>1150.349976</td>\n",
       "      <td>1159.459961</td>\n",
       "      <td>4369770000</td>\n",
       "      <td>1113.826594</td>\n",
       "      <td>95.395175</td>\n",
       "    </tr>\n",
       "    <tr>\n",
       "      <th>2010-03-17</th>\n",
       "      <td>1159.939941</td>\n",
       "      <td>1169.839966</td>\n",
       "      <td>1159.939941</td>\n",
       "      <td>1166.209961</td>\n",
       "      <td>4963200000</td>\n",
       "      <td>1114.490994</td>\n",
       "      <td>99.298813</td>\n",
       "    </tr>\n",
       "    <tr>\n",
       "      <th>2010-03-18</th>\n",
       "      <td>1166.130005</td>\n",
       "      <td>1167.770020</td>\n",
       "      <td>1161.160034</td>\n",
       "      <td>1165.829956</td>\n",
       "      <td>4234510000</td>\n",
       "      <td>1115.077192</td>\n",
       "      <td>98.682607</td>\n",
       "    </tr>\n",
       "    <tr>\n",
       "      <th>2010-03-19</th>\n",
       "      <td>1166.680054</td>\n",
       "      <td>1169.199951</td>\n",
       "      <td>1155.329956</td>\n",
       "      <td>1159.900024</td>\n",
       "      <td>5212410000</td>\n",
       "      <td>1115.532393</td>\n",
       "      <td>88.286421</td>\n",
       "    </tr>\n",
       "    <tr>\n",
       "      <th>2010-03-22</th>\n",
       "      <td>1157.250000</td>\n",
       "      <td>1167.819946</td>\n",
       "      <td>1152.880005</td>\n",
       "      <td>1165.810059</td>\n",
       "      <td>4261680000</td>\n",
       "      <td>1116.014795</td>\n",
       "      <td>88.921808</td>\n",
       "    </tr>\n",
       "    <tr>\n",
       "      <th>...</th>\n",
       "      <td>...</td>\n",
       "      <td>...</td>\n",
       "      <td>...</td>\n",
       "      <td>...</td>\n",
       "      <td>...</td>\n",
       "      <td>...</td>\n",
       "      <td>...</td>\n",
       "    </tr>\n",
       "    <tr>\n",
       "      <th>2023-09-26</th>\n",
       "      <td>4312.879883</td>\n",
       "      <td>4313.009766</td>\n",
       "      <td>4265.979980</td>\n",
       "      <td>4273.529785</td>\n",
       "      <td>3472340000</td>\n",
       "      <td>4468.565000</td>\n",
       "      <td>25.527165</td>\n",
       "    </tr>\n",
       "    <tr>\n",
       "      <th>2023-09-27</th>\n",
       "      <td>4282.629883</td>\n",
       "      <td>4292.069824</td>\n",
       "      <td>4238.629883</td>\n",
       "      <td>4274.509766</td>\n",
       "      <td>3875880000</td>\n",
       "      <td>4462.955596</td>\n",
       "      <td>26.686156</td>\n",
       "    </tr>\n",
       "    <tr>\n",
       "      <th>2023-09-28</th>\n",
       "      <td>4269.649902</td>\n",
       "      <td>4317.270020</td>\n",
       "      <td>4264.379883</td>\n",
       "      <td>4299.700195</td>\n",
       "      <td>3846230000</td>\n",
       "      <td>4457.635195</td>\n",
       "      <td>30.159703</td>\n",
       "    </tr>\n",
       "    <tr>\n",
       "      <th>2023-09-29</th>\n",
       "      <td>4328.180176</td>\n",
       "      <td>4333.149902</td>\n",
       "      <td>4274.859863</td>\n",
       "      <td>4288.049805</td>\n",
       "      <td>3865960000</td>\n",
       "      <td>4452.698789</td>\n",
       "      <td>23.715551</td>\n",
       "    </tr>\n",
       "    <tr>\n",
       "      <th>2023-10-02</th>\n",
       "      <td>4284.520020</td>\n",
       "      <td>4300.580078</td>\n",
       "      <td>4260.209961</td>\n",
       "      <td>4263.640137</td>\n",
       "      <td>1521664000</td>\n",
       "      <td>4447.244795</td>\n",
       "      <td>23.787691</td>\n",
       "    </tr>\n",
       "  </tbody>\n",
       "</table>\n",
       "<p>3411 rows × 7 columns</p>\n",
       "</div>"
      ],
      "text/plain": [
       "                   Open         High          Low        Close      Volume  \\\n",
       "Date                                                                         \n",
       "2010-03-16  1150.829956  1160.280029  1150.349976  1159.459961  4369770000   \n",
       "2010-03-17  1159.939941  1169.839966  1159.939941  1166.209961  4963200000   \n",
       "2010-03-18  1166.130005  1167.770020  1161.160034  1165.829956  4234510000   \n",
       "2010-03-19  1166.680054  1169.199951  1155.329956  1159.900024  5212410000   \n",
       "2010-03-22  1157.250000  1167.819946  1152.880005  1165.810059  4261680000   \n",
       "...                 ...          ...          ...          ...         ...   \n",
       "2023-09-26  4312.879883  4313.009766  4265.979980  4273.529785  3472340000   \n",
       "2023-09-27  4282.629883  4292.069824  4238.629883  4274.509766  3875880000   \n",
       "2023-09-28  4269.649902  4317.270020  4264.379883  4299.700195  3846230000   \n",
       "2023-09-29  4328.180176  4333.149902  4274.859863  4288.049805  3865960000   \n",
       "2023-10-02  4284.520020  4300.580078  4260.209961  4263.640137  1521664000   \n",
       "\n",
       "                 SMA_50        RSI  \n",
       "Date                                \n",
       "2010-03-16  1113.826594  95.395175  \n",
       "2010-03-17  1114.490994  99.298813  \n",
       "2010-03-18  1115.077192  98.682607  \n",
       "2010-03-19  1115.532393  88.286421  \n",
       "2010-03-22  1116.014795  88.921808  \n",
       "...                 ...        ...  \n",
       "2023-09-26  4468.565000  25.527165  \n",
       "2023-09-27  4462.955596  26.686156  \n",
       "2023-09-28  4457.635195  30.159703  \n",
       "2023-09-29  4452.698789  23.715551  \n",
       "2023-10-02  4447.244795  23.787691  \n",
       "\n",
       "[3411 rows x 7 columns]"
      ]
     },
     "execution_count": 13,
     "metadata": {},
     "output_type": "execute_result"
    }
   ],
   "source": [
    "data=data.dropna()\n",
    "data"
   ]
  },
  {
   "cell_type": "markdown",
   "id": "d13924a8",
   "metadata": {},
   "source": [
    "### Entraînement du modèle initial "
   ]
  },
  {
   "cell_type": "code",
   "execution_count": 14,
   "id": "a779dc16",
   "metadata": {},
   "outputs": [],
   "source": [
    "test_percentage = 0.2\n",
    "num_test_samples = int(len(data) * test_percentage)\n",
    "\n",
    "train = data.iloc[-num_test_samples: ]\n",
    "test = data.iloc[-num_test_samples:]\n",
    "predictors=[\"Open\",\"High\",\"Low\",'Volume']"
   ]
  },
  {
   "cell_type": "code",
   "execution_count": 15,
   "id": "39886549",
   "metadata": {},
   "outputs": [
    {
     "ename": "KeyboardInterrupt",
     "evalue": "",
     "output_type": "error",
     "traceback": [
      "\u001b[1;31m---------------------------------------------------------------------------\u001b[0m",
      "\u001b[1;31mKeyboardInterrupt\u001b[0m                         Traceback (most recent call last)",
      "\u001b[1;32m<ipython-input-15-483585a44606>\u001b[0m in \u001b[0;36m<module>\u001b[1;34m\u001b[0m\n\u001b[0;32m      1\u001b[0m \u001b[1;32mimport\u001b[0m \u001b[0mnumpy\u001b[0m \u001b[1;32mas\u001b[0m \u001b[0mnp\u001b[0m\u001b[1;33m\u001b[0m\u001b[1;33m\u001b[0m\u001b[0m\n\u001b[0;32m      2\u001b[0m \u001b[1;32mimport\u001b[0m \u001b[0mpandas\u001b[0m \u001b[1;32mas\u001b[0m \u001b[0mpd\u001b[0m\u001b[1;33m\u001b[0m\u001b[1;33m\u001b[0m\u001b[0m\n\u001b[1;32m----> 3\u001b[1;33m \u001b[1;32mfrom\u001b[0m \u001b[0msklearn\u001b[0m\u001b[1;33m.\u001b[0m\u001b[0mensemble\u001b[0m \u001b[1;32mimport\u001b[0m \u001b[0mRandomForestRegressor\u001b[0m\u001b[1;33m\u001b[0m\u001b[1;33m\u001b[0m\u001b[0m\n\u001b[0m\u001b[0;32m      4\u001b[0m \u001b[1;32mfrom\u001b[0m \u001b[0msklearn\u001b[0m\u001b[1;33m.\u001b[0m\u001b[0mmetrics\u001b[0m \u001b[1;32mimport\u001b[0m \u001b[0mmean_squared_error\u001b[0m\u001b[1;33m\u001b[0m\u001b[1;33m\u001b[0m\u001b[0m\n\u001b[0;32m      5\u001b[0m \u001b[1;33m\u001b[0m\u001b[0m\n",
      "\u001b[1;32m~\\anaconda3\\lib\\site-packages\\sklearn\\__init__.py\u001b[0m in \u001b[0;36m<module>\u001b[1;34m\u001b[0m\n\u001b[0;32m     80\u001b[0m     \u001b[1;32mfrom\u001b[0m \u001b[1;33m.\u001b[0m \u001b[1;32mimport\u001b[0m \u001b[0m_distributor_init\u001b[0m  \u001b[1;31m# noqa: F401\u001b[0m\u001b[1;33m\u001b[0m\u001b[1;33m\u001b[0m\u001b[0m\n\u001b[0;32m     81\u001b[0m     \u001b[1;32mfrom\u001b[0m \u001b[1;33m.\u001b[0m \u001b[1;32mimport\u001b[0m \u001b[0m__check_build\u001b[0m  \u001b[1;31m# noqa: F401\u001b[0m\u001b[1;33m\u001b[0m\u001b[1;33m\u001b[0m\u001b[0m\n\u001b[1;32m---> 82\u001b[1;33m     \u001b[1;32mfrom\u001b[0m \u001b[1;33m.\u001b[0m\u001b[0mbase\u001b[0m \u001b[1;32mimport\u001b[0m \u001b[0mclone\u001b[0m\u001b[1;33m\u001b[0m\u001b[1;33m\u001b[0m\u001b[0m\n\u001b[0m\u001b[0;32m     83\u001b[0m     \u001b[1;32mfrom\u001b[0m \u001b[1;33m.\u001b[0m\u001b[0mutils\u001b[0m\u001b[1;33m.\u001b[0m\u001b[0m_show_versions\u001b[0m \u001b[1;32mimport\u001b[0m \u001b[0mshow_versions\u001b[0m\u001b[1;33m\u001b[0m\u001b[1;33m\u001b[0m\u001b[0m\n\u001b[0;32m     84\u001b[0m \u001b[1;33m\u001b[0m\u001b[0m\n",
      "\u001b[1;32m~\\anaconda3\\lib\\site-packages\\sklearn\\base.py\u001b[0m in \u001b[0;36m<module>\u001b[1;34m\u001b[0m\n\u001b[0;32m     15\u001b[0m \u001b[1;32mfrom\u001b[0m \u001b[1;33m.\u001b[0m \u001b[1;32mimport\u001b[0m \u001b[0m__version__\u001b[0m\u001b[1;33m\u001b[0m\u001b[1;33m\u001b[0m\u001b[0m\n\u001b[0;32m     16\u001b[0m \u001b[1;32mfrom\u001b[0m \u001b[1;33m.\u001b[0m\u001b[0m_config\u001b[0m \u001b[1;32mimport\u001b[0m \u001b[0mget_config\u001b[0m\u001b[1;33m\u001b[0m\u001b[1;33m\u001b[0m\u001b[0m\n\u001b[1;32m---> 17\u001b[1;33m \u001b[1;32mfrom\u001b[0m \u001b[1;33m.\u001b[0m\u001b[0mutils\u001b[0m \u001b[1;32mimport\u001b[0m \u001b[0m_IS_32BIT\u001b[0m\u001b[1;33m\u001b[0m\u001b[1;33m\u001b[0m\u001b[0m\n\u001b[0m\u001b[0;32m     18\u001b[0m from .utils._tags import (\n\u001b[0;32m     19\u001b[0m     \u001b[0m_DEFAULT_TAGS\u001b[0m\u001b[1;33m,\u001b[0m\u001b[1;33m\u001b[0m\u001b[1;33m\u001b[0m\u001b[0m\n",
      "\u001b[1;32m~\\anaconda3\\lib\\site-packages\\sklearn\\utils\\__init__.py\u001b[0m in \u001b[0;36m<module>\u001b[1;34m\u001b[0m\n\u001b[0;32m     21\u001b[0m \u001b[1;33m\u001b[0m\u001b[0m\n\u001b[0;32m     22\u001b[0m \u001b[1;32mfrom\u001b[0m \u001b[1;33m.\u001b[0m\u001b[0mmurmurhash\u001b[0m \u001b[1;32mimport\u001b[0m \u001b[0mmurmurhash3_32\u001b[0m\u001b[1;33m\u001b[0m\u001b[1;33m\u001b[0m\u001b[0m\n\u001b[1;32m---> 23\u001b[1;33m \u001b[1;32mfrom\u001b[0m \u001b[1;33m.\u001b[0m\u001b[0mclass_weight\u001b[0m \u001b[1;32mimport\u001b[0m \u001b[0mcompute_class_weight\u001b[0m\u001b[1;33m,\u001b[0m \u001b[0mcompute_sample_weight\u001b[0m\u001b[1;33m\u001b[0m\u001b[1;33m\u001b[0m\u001b[0m\n\u001b[0m\u001b[0;32m     24\u001b[0m \u001b[1;32mfrom\u001b[0m \u001b[1;33m.\u001b[0m \u001b[1;32mimport\u001b[0m \u001b[0m_joblib\u001b[0m\u001b[1;33m\u001b[0m\u001b[1;33m\u001b[0m\u001b[0m\n\u001b[0;32m     25\u001b[0m \u001b[1;32mfrom\u001b[0m \u001b[1;33m.\u001b[0m\u001b[1;33m.\u001b[0m\u001b[0mexceptions\u001b[0m \u001b[1;32mimport\u001b[0m \u001b[0mDataConversionWarning\u001b[0m\u001b[1;33m\u001b[0m\u001b[1;33m\u001b[0m\u001b[0m\n",
      "\u001b[1;32m~\\anaconda3\\lib\\site-packages\\sklearn\\utils\\class_weight.py\u001b[0m in \u001b[0;36m<module>\u001b[1;34m\u001b[0m\n\u001b[0;32m      5\u001b[0m \u001b[1;32mimport\u001b[0m \u001b[0mnumpy\u001b[0m \u001b[1;32mas\u001b[0m \u001b[0mnp\u001b[0m\u001b[1;33m\u001b[0m\u001b[1;33m\u001b[0m\u001b[0m\n\u001b[0;32m      6\u001b[0m \u001b[1;33m\u001b[0m\u001b[0m\n\u001b[1;32m----> 7\u001b[1;33m \u001b[1;32mfrom\u001b[0m \u001b[1;33m.\u001b[0m\u001b[0mvalidation\u001b[0m \u001b[1;32mimport\u001b[0m \u001b[0m_deprecate_positional_args\u001b[0m\u001b[1;33m\u001b[0m\u001b[1;33m\u001b[0m\u001b[0m\n\u001b[0m\u001b[0;32m      8\u001b[0m \u001b[1;33m\u001b[0m\u001b[0m\n\u001b[0;32m      9\u001b[0m \u001b[1;33m\u001b[0m\u001b[0m\n",
      "\u001b[1;32m~\\anaconda3\\lib\\site-packages\\sklearn\\utils\\validation.py\u001b[0m in \u001b[0;36m<module>\u001b[1;34m\u001b[0m\n\u001b[0;32m     20\u001b[0m \u001b[1;31m# mypy error: Module 'numpy.core.numeric' has no attribute 'ComplexWarning'\u001b[0m\u001b[1;33m\u001b[0m\u001b[1;33m\u001b[0m\u001b[1;33m\u001b[0m\u001b[0m\n\u001b[0;32m     21\u001b[0m \u001b[1;32mfrom\u001b[0m \u001b[0mnumpy\u001b[0m\u001b[1;33m.\u001b[0m\u001b[0mcore\u001b[0m\u001b[1;33m.\u001b[0m\u001b[0mnumeric\u001b[0m \u001b[1;32mimport\u001b[0m \u001b[0mComplexWarning\u001b[0m  \u001b[1;31m# type: ignore\u001b[0m\u001b[1;33m\u001b[0m\u001b[1;33m\u001b[0m\u001b[0m\n\u001b[1;32m---> 22\u001b[1;33m \u001b[1;32mimport\u001b[0m \u001b[0mjoblib\u001b[0m\u001b[1;33m\u001b[0m\u001b[1;33m\u001b[0m\u001b[0m\n\u001b[0m\u001b[0;32m     23\u001b[0m \u001b[1;33m\u001b[0m\u001b[0m\n\u001b[0;32m     24\u001b[0m \u001b[1;32mfrom\u001b[0m \u001b[0mcontextlib\u001b[0m \u001b[1;32mimport\u001b[0m \u001b[0msuppress\u001b[0m\u001b[1;33m\u001b[0m\u001b[1;33m\u001b[0m\u001b[0m\n",
      "\u001b[1;32m~\\anaconda3\\lib\\site-packages\\joblib\\__init__.py\u001b[0m in \u001b[0;36m<module>\u001b[1;34m\u001b[0m\n\u001b[0;32m    118\u001b[0m \u001b[1;32mfrom\u001b[0m \u001b[1;33m.\u001b[0m\u001b[0mnumpy_pickle\u001b[0m \u001b[1;32mimport\u001b[0m \u001b[0mload\u001b[0m\u001b[1;33m\u001b[0m\u001b[1;33m\u001b[0m\u001b[0m\n\u001b[0;32m    119\u001b[0m \u001b[1;32mfrom\u001b[0m \u001b[1;33m.\u001b[0m\u001b[0mcompressor\u001b[0m \u001b[1;32mimport\u001b[0m \u001b[0mregister_compressor\u001b[0m\u001b[1;33m\u001b[0m\u001b[1;33m\u001b[0m\u001b[0m\n\u001b[1;32m--> 120\u001b[1;33m \u001b[1;32mfrom\u001b[0m \u001b[1;33m.\u001b[0m\u001b[0mparallel\u001b[0m \u001b[1;32mimport\u001b[0m \u001b[0mParallel\u001b[0m\u001b[1;33m\u001b[0m\u001b[1;33m\u001b[0m\u001b[0m\n\u001b[0m\u001b[0;32m    121\u001b[0m \u001b[1;32mfrom\u001b[0m \u001b[1;33m.\u001b[0m\u001b[0mparallel\u001b[0m \u001b[1;32mimport\u001b[0m \u001b[0mdelayed\u001b[0m\u001b[1;33m\u001b[0m\u001b[1;33m\u001b[0m\u001b[0m\n\u001b[0;32m    122\u001b[0m \u001b[1;32mfrom\u001b[0m \u001b[1;33m.\u001b[0m\u001b[0mparallel\u001b[0m \u001b[1;32mimport\u001b[0m \u001b[0mcpu_count\u001b[0m\u001b[1;33m\u001b[0m\u001b[1;33m\u001b[0m\u001b[0m\n",
      "\u001b[1;32m~\\anaconda3\\lib\\site-packages\\joblib\\parallel.py\u001b[0m in \u001b[0;36m<module>\u001b[1;34m\u001b[0m\n\u001b[0;32m     24\u001b[0m \u001b[1;32mfrom\u001b[0m \u001b[1;33m.\u001b[0m\u001b[0mlogger\u001b[0m \u001b[1;32mimport\u001b[0m \u001b[0mLogger\u001b[0m\u001b[1;33m,\u001b[0m \u001b[0mshort_format_time\u001b[0m\u001b[1;33m\u001b[0m\u001b[1;33m\u001b[0m\u001b[0m\n\u001b[0;32m     25\u001b[0m \u001b[1;32mfrom\u001b[0m \u001b[1;33m.\u001b[0m\u001b[0mdisk\u001b[0m \u001b[1;32mimport\u001b[0m \u001b[0mmemstr_to_bytes\u001b[0m\u001b[1;33m\u001b[0m\u001b[1;33m\u001b[0m\u001b[0m\n\u001b[1;32m---> 26\u001b[1;33m from ._parallel_backends import (FallbackToBackend, MultiprocessingBackend,\n\u001b[0m\u001b[0;32m     27\u001b[0m                                  \u001b[0mThreadingBackend\u001b[0m\u001b[1;33m,\u001b[0m \u001b[0mSequentialBackend\u001b[0m\u001b[1;33m,\u001b[0m\u001b[1;33m\u001b[0m\u001b[1;33m\u001b[0m\u001b[0m\n\u001b[0;32m     28\u001b[0m                                  LokyBackend)\n",
      "\u001b[1;32m~\\anaconda3\\lib\\site-packages\\joblib\\_parallel_backends.py\u001b[0m in \u001b[0;36m<module>\u001b[1;34m\u001b[0m\n\u001b[0;32m     15\u001b[0m \u001b[1;33m\u001b[0m\u001b[0m\n\u001b[0;32m     16\u001b[0m \u001b[1;32mif\u001b[0m \u001b[0mmp\u001b[0m \u001b[1;32mis\u001b[0m \u001b[1;32mnot\u001b[0m \u001b[1;32mNone\u001b[0m\u001b[1;33m:\u001b[0m\u001b[1;33m\u001b[0m\u001b[1;33m\u001b[0m\u001b[0m\n\u001b[1;32m---> 17\u001b[1;33m     \u001b[1;32mfrom\u001b[0m \u001b[1;33m.\u001b[0m\u001b[0mpool\u001b[0m \u001b[1;32mimport\u001b[0m \u001b[0mMemmappingPool\u001b[0m\u001b[1;33m\u001b[0m\u001b[1;33m\u001b[0m\u001b[0m\n\u001b[0m\u001b[0;32m     18\u001b[0m     \u001b[1;32mfrom\u001b[0m \u001b[0mmultiprocessing\u001b[0m\u001b[1;33m.\u001b[0m\u001b[0mpool\u001b[0m \u001b[1;32mimport\u001b[0m \u001b[0mThreadPool\u001b[0m\u001b[1;33m\u001b[0m\u001b[1;33m\u001b[0m\u001b[0m\n\u001b[0;32m     19\u001b[0m     \u001b[1;32mfrom\u001b[0m \u001b[1;33m.\u001b[0m\u001b[0mexecutor\u001b[0m \u001b[1;32mimport\u001b[0m \u001b[0mget_memmapping_executor\u001b[0m\u001b[1;33m\u001b[0m\u001b[1;33m\u001b[0m\u001b[0m\n",
      "\u001b[1;32m~\\anaconda3\\lib\\site-packages\\joblib\\pool.py\u001b[0m in \u001b[0;36m<module>\u001b[1;34m\u001b[0m\n\u001b[0;32m     29\u001b[0m \u001b[1;32mfrom\u001b[0m \u001b[0mio\u001b[0m \u001b[1;32mimport\u001b[0m \u001b[0mBytesIO\u001b[0m\u001b[1;33m\u001b[0m\u001b[1;33m\u001b[0m\u001b[0m\n\u001b[0;32m     30\u001b[0m \u001b[1;33m\u001b[0m\u001b[0m\n\u001b[1;32m---> 31\u001b[1;33m \u001b[1;32mfrom\u001b[0m \u001b[1;33m.\u001b[0m\u001b[0m_memmapping_reducer\u001b[0m \u001b[1;32mimport\u001b[0m \u001b[0mget_memmapping_reducers\u001b[0m\u001b[1;33m\u001b[0m\u001b[1;33m\u001b[0m\u001b[0m\n\u001b[0m\u001b[0;32m     32\u001b[0m \u001b[1;32mfrom\u001b[0m \u001b[1;33m.\u001b[0m\u001b[0m_memmapping_reducer\u001b[0m \u001b[1;32mimport\u001b[0m \u001b[0mTemporaryResourcesManager\u001b[0m\u001b[1;33m\u001b[0m\u001b[1;33m\u001b[0m\u001b[0m\n\u001b[0;32m     33\u001b[0m \u001b[1;32mfrom\u001b[0m \u001b[1;33m.\u001b[0m\u001b[0m_multiprocessing_helpers\u001b[0m \u001b[1;32mimport\u001b[0m \u001b[0mmp\u001b[0m\u001b[1;33m,\u001b[0m \u001b[0massert_spawning\u001b[0m\u001b[1;33m\u001b[0m\u001b[1;33m\u001b[0m\u001b[0m\n",
      "\u001b[1;32m~\\anaconda3\\lib\\site-packages\\joblib\\_memmapping_reducer.py\u001b[0m in \u001b[0;36m<module>\u001b[1;34m\u001b[0m\n\u001b[0;32m     35\u001b[0m \u001b[1;32mfrom\u001b[0m \u001b[1;33m.\u001b[0m\u001b[0mbackports\u001b[0m \u001b[1;32mimport\u001b[0m \u001b[0mmake_memmap\u001b[0m\u001b[1;33m\u001b[0m\u001b[1;33m\u001b[0m\u001b[0m\n\u001b[0;32m     36\u001b[0m \u001b[1;32mfrom\u001b[0m \u001b[1;33m.\u001b[0m\u001b[0mdisk\u001b[0m \u001b[1;32mimport\u001b[0m \u001b[0mdelete_folder\u001b[0m\u001b[1;33m\u001b[0m\u001b[1;33m\u001b[0m\u001b[0m\n\u001b[1;32m---> 37\u001b[1;33m \u001b[1;32mfrom\u001b[0m \u001b[1;33m.\u001b[0m\u001b[0mexternals\u001b[0m\u001b[1;33m.\u001b[0m\u001b[0mloky\u001b[0m\u001b[1;33m.\u001b[0m\u001b[0mbackend\u001b[0m \u001b[1;32mimport\u001b[0m \u001b[0mresource_tracker\u001b[0m\u001b[1;33m\u001b[0m\u001b[1;33m\u001b[0m\u001b[0m\n\u001b[0m\u001b[0;32m     38\u001b[0m \u001b[1;33m\u001b[0m\u001b[0m\n\u001b[0;32m     39\u001b[0m \u001b[1;31m# Some system have a ramdisk mounted by default, we can use it instead of /tmp\u001b[0m\u001b[1;33m\u001b[0m\u001b[1;33m\u001b[0m\u001b[1;33m\u001b[0m\u001b[0m\n",
      "\u001b[1;32m~\\anaconda3\\lib\\site-packages\\joblib\\externals\\loky\\__init__.py\u001b[0m in \u001b[0;36m<module>\u001b[1;34m\u001b[0m\n\u001b[0;32m      9\u001b[0m \u001b[1;32mfrom\u001b[0m \u001b[1;33m.\u001b[0m\u001b[0m_base\u001b[0m \u001b[1;32mimport\u001b[0m \u001b[0mALL_COMPLETED\u001b[0m\u001b[1;33m,\u001b[0m \u001b[0mFIRST_COMPLETED\u001b[0m\u001b[1;33m,\u001b[0m \u001b[0mFIRST_EXCEPTION\u001b[0m\u001b[1;33m\u001b[0m\u001b[1;33m\u001b[0m\u001b[0m\n\u001b[0;32m     10\u001b[0m \u001b[1;33m\u001b[0m\u001b[0m\n\u001b[1;32m---> 11\u001b[1;33m \u001b[1;32mfrom\u001b[0m \u001b[1;33m.\u001b[0m\u001b[0mbackend\u001b[0m\u001b[1;33m.\u001b[0m\u001b[0mcontext\u001b[0m \u001b[1;32mimport\u001b[0m \u001b[0mcpu_count\u001b[0m\u001b[1;33m\u001b[0m\u001b[1;33m\u001b[0m\u001b[0m\n\u001b[0m\u001b[0;32m     12\u001b[0m \u001b[1;32mfrom\u001b[0m \u001b[1;33m.\u001b[0m\u001b[0mbackend\u001b[0m\u001b[1;33m.\u001b[0m\u001b[0mreduction\u001b[0m \u001b[1;32mimport\u001b[0m \u001b[0mset_loky_pickler\u001b[0m\u001b[1;33m\u001b[0m\u001b[1;33m\u001b[0m\u001b[0m\n\u001b[0;32m     13\u001b[0m \u001b[1;32mfrom\u001b[0m \u001b[1;33m.\u001b[0m\u001b[0mreusable_executor\u001b[0m \u001b[1;32mimport\u001b[0m \u001b[0mget_reusable_executor\u001b[0m\u001b[1;33m\u001b[0m\u001b[1;33m\u001b[0m\u001b[0m\n",
      "\u001b[1;32m~\\anaconda3\\lib\\site-packages\\joblib\\externals\\loky\\backend\\__init__.py\u001b[0m in \u001b[0;36m<module>\u001b[1;34m\u001b[0m\n\u001b[0;32m     11\u001b[0m \u001b[1;33m\u001b[0m\u001b[0m\n\u001b[0;32m     12\u001b[0m     \u001b[1;31m# monkey patch the name creation for multiprocessing\u001b[0m\u001b[1;33m\u001b[0m\u001b[1;33m\u001b[0m\u001b[1;33m\u001b[0m\u001b[0m\n\u001b[1;32m---> 13\u001b[1;33m     \u001b[1;32mfrom\u001b[0m \u001b[0mmultiprocessing\u001b[0m \u001b[1;32mimport\u001b[0m \u001b[0msynchronize\u001b[0m\u001b[1;33m\u001b[0m\u001b[1;33m\u001b[0m\u001b[0m\n\u001b[0m\u001b[0;32m     14\u001b[0m     \u001b[0msynchronize\u001b[0m\u001b[1;33m.\u001b[0m\u001b[0mSemLock\u001b[0m\u001b[1;33m.\u001b[0m\u001b[0m_make_name\u001b[0m \u001b[1;33m=\u001b[0m \u001b[0mstaticmethod\u001b[0m\u001b[1;33m(\u001b[0m\u001b[0m_make_name\u001b[0m\u001b[1;33m)\u001b[0m\u001b[1;33m\u001b[0m\u001b[1;33m\u001b[0m\u001b[0m\n\u001b[0;32m     15\u001b[0m \u001b[1;33m\u001b[0m\u001b[0m\n",
      "\u001b[1;32m~\\anaconda3\\lib\\importlib\\_bootstrap.py\u001b[0m in \u001b[0;36m_find_and_load\u001b[1;34m(name, import_)\u001b[0m\n",
      "\u001b[1;32m~\\anaconda3\\lib\\importlib\\_bootstrap.py\u001b[0m in \u001b[0;36m_find_and_load_unlocked\u001b[1;34m(name, import_)\u001b[0m\n",
      "\u001b[1;32m~\\anaconda3\\lib\\importlib\\_bootstrap.py\u001b[0m in \u001b[0;36m_load_unlocked\u001b[1;34m(spec)\u001b[0m\n",
      "\u001b[1;32m~\\anaconda3\\lib\\importlib\\_bootstrap_external.py\u001b[0m in \u001b[0;36mexec_module\u001b[1;34m(self, module)\u001b[0m\n",
      "\u001b[1;32m~\\anaconda3\\lib\\importlib\\_bootstrap_external.py\u001b[0m in \u001b[0;36mget_code\u001b[1;34m(self, fullname)\u001b[0m\n",
      "\u001b[1;32m~\\anaconda3\\lib\\importlib\\_bootstrap_external.py\u001b[0m in \u001b[0;36mget_data\u001b[1;34m(self, path)\u001b[0m\n",
      "\u001b[1;31mKeyboardInterrupt\u001b[0m: "
     ]
    }
   ],
   "source": [
    "import numpy as np\n",
    "import pandas as pd\n",
    "from sklearn.ensemble import RandomForestRegressor\n",
    "from sklearn.metrics import mean_squared_error\n",
    "\n",
    "# Load your time series data here\n",
    "# data = pd.read_csv('your_dataset.csv')\n",
    "\n",
    "# Define the number of observations for testing\n",
    "test_size = 30  # For example, using the last 30 days for testing\n",
    "\n",
    "# Initialize variables to store best parameters and best error\n",
    "best_params = None\n",
    "best_error = float('inf')\n",
    "\n",
    "# Define the range of hyperparameters to search\n",
    "param_grid = {\n",
    "    'n_estimators': [100, 200, 300],\n",
    "    'max_depth': [None, 10, 20, 30],\n",
    "    'min_samples_split': [2, 5, 10],\n",
    "    'min_samples_leaf': [1, 2, 4]\n",
    "}\n",
    "\n",
    "# Loop through different parameter combinations\n",
    "for n_estimators in param_grid['n_estimators']:\n",
    "    for max_depth in param_grid['max_depth']:\n",
    "        for min_samples_split in param_grid['min_samples_split']:\n",
    "            for min_samples_leaf in param_grid['min_samples_leaf']:\n",
    "                errors = []  # To store errors for different test periods\n",
    "                for i in range(2500, len(data), 50):\n",
    "                    train_data = data[:i - test_size]  # Training data\n",
    "                    test_data = data[i - test_size:i]  # Test data\n",
    "                    # Prepare features and target\n",
    "                    X_train = train_data[predictors]  # Replace with your features\n",
    "                    y_train = train_data['Close']  # Replace with your target\n",
    "                    X_test = test_data[predictors]\n",
    "                    y_test = test_data['Close']\n",
    "                    \n",
    "                    # Create and train the model\n",
    "                    model = RandomForestRegressor(n_estimators=n_estimators,\n",
    "                                                  max_depth=max_depth,\n",
    "                                                  min_samples_split=min_samples_split,\n",
    "                                                  min_samples_leaf=min_samples_leaf)\n",
    "                    model.fit(X_train, y_train)\n",
    "                    \n",
    "                    # Predict and calculate error\n",
    "                    y_pred = model.predict(X_test)\n",
    "                    error = mean_squared_error(y_test, y_pred)\n",
    "                    errors.append(error)\n",
    "                \n",
    "                # Calculate average error for this parameter combination\n",
    "                avg_error = np.mean(errors)\n",
    "                \n",
    "                # Update best_params and best_error if necessary\n",
    "                if avg_error < best_error:\n",
    "                    best_error = avg_error\n",
    "                    best_params = {\n",
    "                        'n_estimators': n_estimators,\n",
    "                        'max_depth': max_depth,\n",
    "                        'min_samples_split': min_samples_split,\n",
    "                        'min_samples_leaf': min_samples_leaf\n",
    "                    }\n",
    "\n",
    "\n"
   ]
  },
  {
   "cell_type": "code",
   "execution_count": 15,
   "id": "37cb09ff",
   "metadata": {},
   "outputs": [
    {
     "ename": "NameError",
     "evalue": "name 'best_params' is not defined",
     "output_type": "error",
     "traceback": [
      "\u001b[1;31m---------------------------------------------------------------------------\u001b[0m",
      "\u001b[1;31mNameError\u001b[0m                                 Traceback (most recent call last)",
      "\u001b[1;32m<ipython-input-15-19ecc8bfa3d2>\u001b[0m in \u001b[0;36m<module>\u001b[1;34m\u001b[0m\n\u001b[0;32m      1\u001b[0m \u001b[0mbest_error\u001b[0m\u001b[1;33m=\u001b[0m\u001b[1;36m70.0682\u001b[0m\u001b[1;33m\u001b[0m\u001b[1;33m\u001b[0m\u001b[0m\n\u001b[1;32m----> 2\u001b[1;33m \u001b[0mprint\u001b[0m\u001b[1;33m(\u001b[0m\u001b[1;34m\"Best Parameters:\"\u001b[0m\u001b[1;33m,\u001b[0m \u001b[0mbest_params\u001b[0m\u001b[1;33m)\u001b[0m\u001b[1;33m\u001b[0m\u001b[1;33m\u001b[0m\u001b[0m\n\u001b[0m\u001b[0;32m      3\u001b[0m \u001b[0mprint\u001b[0m\u001b[1;33m(\u001b[0m\u001b[1;34m\"Best Mean Squared Error:\"\u001b[0m\u001b[1;33m,\u001b[0m \u001b[0mbest_error\u001b[0m\u001b[1;33m)\u001b[0m\u001b[1;33m\u001b[0m\u001b[1;33m\u001b[0m\u001b[0m\n",
      "\u001b[1;31mNameError\u001b[0m: name 'best_params' is not defined"
     ]
    }
   ],
   "source": [
    "best_error=70.0682\n",
    "print(\"Best Parameters:\", best_params)\n",
    "print(\"Best Mean Squared Error:\", best_error)"
   ]
  },
  {
   "cell_type": "code",
   "execution_count": 16,
   "id": "47991913",
   "metadata": {},
   "outputs": [
    {
     "data": {
      "text/plain": [
       "RandomForestRegressor(n_estimators=200)"
      ]
     },
     "execution_count": 16,
     "metadata": {},
     "output_type": "execute_result"
    }
   ],
   "source": [
    "from sklearn.ensemble import RandomForestRegressor\n",
    "\n",
    "model= RandomForestRegressor(n_estimators=200, max_depth= None, min_samples_split= 2, min_samples_leaf= 1)\n",
    "model.fit(train[predictors],train['Close'])"
   ]
  },
  {
   "cell_type": "code",
   "execution_count": 17,
   "id": "572c90c2",
   "metadata": {},
   "outputs": [],
   "source": [
    "preds=model.predict(test[predictors])"
   ]
  },
  {
   "cell_type": "code",
   "execution_count": 18,
   "id": "bae048f7",
   "metadata": {},
   "outputs": [
    {
     "name": "stdout",
     "output_type": "stream",
     "text": [
      "Mean Absolute Error: 5.8945\n",
      "Mean Squared Error: 64.5817\n",
      "Root Mean Squared Error: 8.0363\n",
      "Accuracy: 99.86 %.\n"
     ]
    }
   ],
   "source": [
    "from sklearn import metrics\n",
    "import numpy as np\n",
    "\n",
    "print(\"Mean Absolute Error:\", round(metrics.mean_absolute_error(test[\"Close\"], preds), 4))\n",
    "print(\"Mean Squared Error:\", round(metrics.mean_squared_error(test[\"Close\"], preds), 4))\n",
    "print(\"Root Mean Squared Error:\", round(np.sqrt(metrics.mean_squared_error(test[\"Close\"], preds)), 4))\n",
    "errors = abs(preds - test[\"Close\"])\n",
    "mape = 100 * (errors / test[\"Close\"])\n",
    "accuracy = 100 - np.mean(mape)\n",
    "print('Accuracy:', round(accuracy, 2), '%.') "
   ]
  },
  {
   "cell_type": "code",
   "execution_count": 19,
   "id": "19279168",
   "metadata": {},
   "outputs": [],
   "source": [
    "import pandas as pd\n",
    "preds= pd.Series(preds, index=test.index,name=\"Predictions\")\n",
    "combined=pd.concat([test[\"Close\"],preds],axis=1)"
   ]
  },
  {
   "cell_type": "code",
   "execution_count": 20,
   "id": "bff41c26",
   "metadata": {},
   "outputs": [
    {
     "data": {
      "text/plain": [
       "<AxesSubplot:xlabel='Date'>"
      ]
     },
     "execution_count": 20,
     "metadata": {},
     "output_type": "execute_result"
    },
    {
     "data": {
      "image/png": "[encoded data removed]",
      "text/plain": [
       "<Figure size 432x288 with 1 Axes>"
      ]
     },
     "metadata": {
      "needs_background": "light"
     },
     "output_type": "display_data"
    }
   ],
   "source": [
    "combined.plot()"
   ]
  },
  {
   "cell_type": "code",
   "execution_count": 21,
   "id": "7e579ab8",
   "metadata": {},
   "outputs": [
    {
     "data": {
      "text/html": [
       "<div>\n",
       "<style scoped>\n",
       "    .dataframe tbody tr th:only-of-type {\n",
       "        vertical-align: middle;\n",
       "    }\n",
       "\n",
       "    .dataframe tbody tr th {\n",
       "        vertical-align: top;\n",
       "    }\n",
       "\n",
       "    .dataframe thead th {\n",
       "        text-align: right;\n",
       "    }\n",
       "</style>\n",
       "<table border=\"1\" class=\"dataframe\">\n",
       "  <thead>\n",
       "    <tr style=\"text-align: right;\">\n",
       "      <th></th>\n",
       "      <th>Close</th>\n",
       "      <th>Predictions</th>\n",
       "    </tr>\n",
       "    <tr>\n",
       "      <th>Date</th>\n",
       "      <th></th>\n",
       "      <th></th>\n",
       "    </tr>\n",
       "  </thead>\n",
       "  <tbody>\n",
       "    <tr>\n",
       "      <th>2021-01-15</th>\n",
       "      <td>3768.250000</td>\n",
       "      <td>3772.629796</td>\n",
       "    </tr>\n",
       "    <tr>\n",
       "      <th>2021-01-19</th>\n",
       "      <td>3798.909912</td>\n",
       "      <td>3798.607449</td>\n",
       "    </tr>\n",
       "    <tr>\n",
       "      <th>2021-01-20</th>\n",
       "      <td>3851.850098</td>\n",
       "      <td>3851.228065</td>\n",
       "    </tr>\n",
       "    <tr>\n",
       "      <th>2021-01-21</th>\n",
       "      <td>3853.070068</td>\n",
       "      <td>3854.336401</td>\n",
       "    </tr>\n",
       "    <tr>\n",
       "      <th>2021-01-22</th>\n",
       "      <td>3841.469971</td>\n",
       "      <td>3844.343579</td>\n",
       "    </tr>\n",
       "    <tr>\n",
       "      <th>...</th>\n",
       "      <td>...</td>\n",
       "      <td>...</td>\n",
       "    </tr>\n",
       "    <tr>\n",
       "      <th>2023-09-26</th>\n",
       "      <td>4273.529785</td>\n",
       "      <td>4277.620015</td>\n",
       "    </tr>\n",
       "    <tr>\n",
       "      <th>2023-09-27</th>\n",
       "      <td>4274.509766</td>\n",
       "      <td>4271.900464</td>\n",
       "    </tr>\n",
       "    <tr>\n",
       "      <th>2023-09-28</th>\n",
       "      <td>4299.700195</td>\n",
       "      <td>4297.685901</td>\n",
       "    </tr>\n",
       "    <tr>\n",
       "      <th>2023-09-29</th>\n",
       "      <td>4288.049805</td>\n",
       "      <td>4291.785032</td>\n",
       "    </tr>\n",
       "    <tr>\n",
       "      <th>2023-10-02</th>\n",
       "      <td>4263.640137</td>\n",
       "      <td>4269.704536</td>\n",
       "    </tr>\n",
       "  </tbody>\n",
       "</table>\n",
       "<p>682 rows × 2 columns</p>\n",
       "</div>"
      ],
      "text/plain": [
       "                  Close  Predictions\n",
       "Date                                \n",
       "2021-01-15  3768.250000  3772.629796\n",
       "2021-01-19  3798.909912  3798.607449\n",
       "2021-01-20  3851.850098  3851.228065\n",
       "2021-01-21  3853.070068  3854.336401\n",
       "2021-01-22  3841.469971  3844.343579\n",
       "...                 ...          ...\n",
       "2023-09-26  4273.529785  4277.620015\n",
       "2023-09-27  4274.509766  4271.900464\n",
       "2023-09-28  4299.700195  4297.685901\n",
       "2023-09-29  4288.049805  4291.785032\n",
       "2023-10-02  4263.640137  4269.704536\n",
       "\n",
       "[682 rows x 2 columns]"
      ]
     },
     "execution_count": 21,
     "metadata": {},
     "output_type": "execute_result"
    }
   ],
   "source": [
    "combined"
   ]
  },
  {
   "cell_type": "code",
   "execution_count": 22,
   "id": "5aca8674",
   "metadata": {},
   "outputs": [
    {
     "data": {
      "text/html": [
       "<div>\n",
       "<style scoped>\n",
       "    .dataframe tbody tr th:only-of-type {\n",
       "        vertical-align: middle;\n",
       "    }\n",
       "\n",
       "    .dataframe tbody tr th {\n",
       "        vertical-align: top;\n",
       "    }\n",
       "\n",
       "    .dataframe thead th {\n",
       "        text-align: right;\n",
       "    }\n",
       "</style>\n",
       "<table border=\"1\" class=\"dataframe\">\n",
       "  <thead>\n",
       "    <tr style=\"text-align: right;\">\n",
       "      <th></th>\n",
       "      <th>Close</th>\n",
       "      <th>Predictions</th>\n",
       "      <th>residuals</th>\n",
       "      <th>Risk Level</th>\n",
       "    </tr>\n",
       "    <tr>\n",
       "      <th>Date</th>\n",
       "      <th></th>\n",
       "      <th></th>\n",
       "      <th></th>\n",
       "      <th></th>\n",
       "    </tr>\n",
       "  </thead>\n",
       "  <tbody>\n",
       "    <tr>\n",
       "      <th>2023-09-21</th>\n",
       "      <td>4330.000000</td>\n",
       "      <td>4339.118267</td>\n",
       "      <td>-9.118267</td>\n",
       "      <td>Very Risky</td>\n",
       "    </tr>\n",
       "    <tr>\n",
       "      <th>2023-09-22</th>\n",
       "      <td>4320.060059</td>\n",
       "      <td>4327.093818</td>\n",
       "      <td>-7.033760</td>\n",
       "      <td>Very Risky</td>\n",
       "    </tr>\n",
       "    <tr>\n",
       "      <th>2023-09-25</th>\n",
       "      <td>4337.439941</td>\n",
       "      <td>4335.089924</td>\n",
       "      <td>2.350017</td>\n",
       "      <td>Risky</td>\n",
       "    </tr>\n",
       "    <tr>\n",
       "      <th>2023-09-26</th>\n",
       "      <td>4273.529785</td>\n",
       "      <td>4277.620015</td>\n",
       "      <td>-4.090229</td>\n",
       "      <td>Very Risky</td>\n",
       "    </tr>\n",
       "    <tr>\n",
       "      <th>2023-09-27</th>\n",
       "      <td>4274.509766</td>\n",
       "      <td>4271.900464</td>\n",
       "      <td>2.609302</td>\n",
       "      <td>Risky</td>\n",
       "    </tr>\n",
       "    <tr>\n",
       "      <th>2023-09-28</th>\n",
       "      <td>4299.700195</td>\n",
       "      <td>4297.685901</td>\n",
       "      <td>2.014294</td>\n",
       "      <td>Risky</td>\n",
       "    </tr>\n",
       "    <tr>\n",
       "      <th>2023-09-29</th>\n",
       "      <td>4288.049805</td>\n",
       "      <td>4291.785032</td>\n",
       "      <td>-3.735227</td>\n",
       "      <td>Very Risky</td>\n",
       "    </tr>\n",
       "    <tr>\n",
       "      <th>2023-10-02</th>\n",
       "      <td>4263.640137</td>\n",
       "      <td>4269.704536</td>\n",
       "      <td>-6.064399</td>\n",
       "      <td>Very Risky</td>\n",
       "    </tr>\n",
       "  </tbody>\n",
       "</table>\n",
       "</div>"
      ],
      "text/plain": [
       "                  Close  Predictions  residuals  Risk Level\n",
       "Date                                                       \n",
       "2023-09-21  4330.000000  4339.118267  -9.118267  Very Risky\n",
       "2023-09-22  4320.060059  4327.093818  -7.033760  Very Risky\n",
       "2023-09-25  4337.439941  4335.089924   2.350017       Risky\n",
       "2023-09-26  4273.529785  4277.620015  -4.090229  Very Risky\n",
       "2023-09-27  4274.509766  4271.900464   2.609302       Risky\n",
       "2023-09-28  4299.700195  4297.685901   2.014294       Risky\n",
       "2023-09-29  4288.049805  4291.785032  -3.735227  Very Risky\n",
       "2023-10-02  4263.640137  4269.704536  -6.064399  Very Risky"
      ]
     },
     "execution_count": 22,
     "metadata": {},
     "output_type": "execute_result"
    }
   ],
   "source": [
    "combined['residuals'] = combined['Close'] - combined['Predictions']\n",
    "\n",
    "high_risk_threshold = 3.0\n",
    "moderate_risk_threshold = 2\n",
    "low_risk_threshold = 1.0\n",
    "\n",
    "def categorize_risk(residual):\n",
    "    if abs(residual) > high_risk_threshold:\n",
    "        return 'Very Risky'\n",
    "    elif abs(residual) > moderate_risk_threshold:\n",
    "        return 'Risky'\n",
    "    elif abs(residual) > low_risk_threshold:\n",
    "        return 'Moderate Risk'\n",
    "    else:\n",
    "        return 'Low Risk'\n",
    "\n",
    "combined['Risk Level'] = combined['residuals'].apply(categorize_risk)\n",
    "\n",
    "combined.tail(8)"
   ]
  },
  {
   "cell_type": "code",
   "execution_count": 24,
   "id": "4578e892",
   "metadata": {},
   "outputs": [
    {
     "data": {
      "image/png": "[encoded data removed]",
      "text/plain": [
       "<Figure size 432x216 with 1 Axes>"
      ]
     },
     "metadata": {
      "needs_background": "light"
     },
     "output_type": "display_data"
    }
   ],
   "source": [
    "# Get feature importances\n",
    "feature_importances = model.feature_importances_\n",
    "import seaborn as sns\n",
    "\n",
    "# Create a DataFrame to store feature names and importances\n",
    "feature_df = pd.DataFrame({'Feature': predictors, 'Importance': feature_importances})\n",
    "\n",
    "# Sort the DataFrame by importance\n",
    "feature_df = feature_df.sort_values(by='Importance', ascending=False)\n",
    "\n",
    "# Create the feature importance plot\n",
    "plt.figure(figsize=(6, 3))\n",
    "sns.barplot(x='Importance', y='Feature', data=feature_df)\n",
    "plt.title('Feature Importance Plot')\n",
    "plt.xlabel('Importance')\n",
    "plt.ylabel('Feature')\n",
    "plt.show()"
   ]
  },
  {
   "cell_type": "code",
   "execution_count": null,
   "id": "ef1367ed",
   "metadata": {},
   "outputs": [],
   "source": []
  },
  {
   "cell_type": "markdown",
   "id": "ecab5c43",
   "metadata": {},
   "source": [
    "### Entraînement du modèle initial en appliquant le Backtest"
   ]
  },
  {
   "cell_type": "code",
   "execution_count": 25,
   "id": "42f2877a",
   "metadata": {},
   "outputs": [],
   "source": [
    "def predict(train,test,predictors,model):\n",
    "    model.fit(train[predictors],train[\"Close\"])\n",
    "    preds=model.predict(test[predictors])\n",
    "    preds= pd.Series(preds, index=test.index,name=\"Predictions\")\n",
    "    combined=pd.concat([test[\"Close\"],preds],axis=1)\n",
    "    return combined"
   ]
  },
  {
   "cell_type": "code",
   "execution_count": 26,
   "id": "f9dbe3e7",
   "metadata": {},
   "outputs": [],
   "source": [
    "def backtest(data,model,predictors,start=500,step=50):\n",
    "    all_predictions=[]\n",
    "    for i in range(start,data.shape[0],step):\n",
    "        train=data.iloc[0:i].copy()\n",
    "        test=data.iloc[i:(i+step)].copy()\n",
    "        predictions=predict(train,test,predictors,model)\n",
    "        all_predictions.append(predictions)\n",
    "    return pd.concat(all_predictions)"
   ]
  },
  {
   "cell_type": "code",
   "execution_count": 27,
   "id": "8e331030",
   "metadata": {},
   "outputs": [],
   "source": [
    "preds=backtest(data,model,predictors,100,10)"
   ]
  },
  {
   "cell_type": "code",
   "execution_count": 28,
   "id": "17bee868",
   "metadata": {},
   "outputs": [
    {
     "name": "stdout",
     "output_type": "stream",
     "text": [
      "Mean Absolute Error with Backtest: 14.1196\n",
      "Mean Squared Error with Backtest: 507.1741\n",
      "Root Mean Squared Error with Backtest: 22.5205\n",
      "Accuracy with Backtest: 99.46 %.\n"
     ]
    }
   ],
   "source": [
    "from sklearn import metrics\n",
    "import numpy as np\n",
    "\n",
    "print(\"Mean Absolute Error with Backtest:\", round(metrics.mean_absolute_error(preds[\"Close\"],preds[\"Predictions\"]), 4))\n",
    "print(\"Mean Squared Error with Backtest:\", round(metrics.mean_squared_error(preds[\"Close\"],preds[\"Predictions\"]), 4))\n",
    "print(\"Root Mean Squared Error with Backtest:\", round(np.sqrt(metrics.mean_squared_error(preds[\"Close\"],preds[\"Predictions\"])), 4))\n",
    "errors = abs(preds[\"Close\"]-preds[\"Predictions\"])\n",
    "mape = 100 * (errors / preds[\"Close\"])\n",
    "accuracy = 100 - np.mean(mape)\n",
    "print('Accuracy with Backtest:', round(accuracy, 2), '%.') "
   ]
  },
  {
   "cell_type": "code",
   "execution_count": 29,
   "id": "7ceb14b3",
   "metadata": {},
   "outputs": [
    {
     "data": {
      "text/plain": [
       "<AxesSubplot:xlabel='Date'>"
      ]
     },
     "execution_count": 29,
     "metadata": {},
     "output_type": "execute_result"
    },
    {
     "data": {
      "image/png": "[encoded data removed]",
      "text/plain": [
       "<Figure size 432x288 with 1 Axes>"
      ]
     },
     "metadata": {
      "needs_background": "light"
     },
     "output_type": "display_data"
    }
   ],
   "source": [
    "preds.plot()"
   ]
  },
  {
   "cell_type": "code",
   "execution_count": 30,
   "id": "05db4f4a",
   "metadata": {},
   "outputs": [
    {
     "data": {
      "text/html": [
       "<div>\n",
       "<style scoped>\n",
       "    .dataframe tbody tr th:only-of-type {\n",
       "        vertical-align: middle;\n",
       "    }\n",
       "\n",
       "    .dataframe tbody tr th {\n",
       "        vertical-align: top;\n",
       "    }\n",
       "\n",
       "    .dataframe thead th {\n",
       "        text-align: right;\n",
       "    }\n",
       "</style>\n",
       "<table border=\"1\" class=\"dataframe\">\n",
       "  <thead>\n",
       "    <tr style=\"text-align: right;\">\n",
       "      <th></th>\n",
       "      <th>Close</th>\n",
       "      <th>Predictions</th>\n",
       "      <th>residuals</th>\n",
       "      <th>Risk Level</th>\n",
       "    </tr>\n",
       "    <tr>\n",
       "      <th>Date</th>\n",
       "      <th></th>\n",
       "      <th></th>\n",
       "      <th></th>\n",
       "      <th></th>\n",
       "    </tr>\n",
       "  </thead>\n",
       "  <tbody>\n",
       "    <tr>\n",
       "      <th>2010-08-06</th>\n",
       "      <td>1121.640015</td>\n",
       "      <td>1118.178493</td>\n",
       "      <td>3.461522</td>\n",
       "      <td>Low Risk</td>\n",
       "    </tr>\n",
       "    <tr>\n",
       "      <th>2010-08-09</th>\n",
       "      <td>1127.790039</td>\n",
       "      <td>1134.124010</td>\n",
       "      <td>-6.333971</td>\n",
       "      <td>Low Risk</td>\n",
       "    </tr>\n",
       "    <tr>\n",
       "      <th>2010-08-10</th>\n",
       "      <td>1121.060059</td>\n",
       "      <td>1122.050932</td>\n",
       "      <td>-0.990873</td>\n",
       "      <td>Low Risk</td>\n",
       "    </tr>\n",
       "    <tr>\n",
       "      <th>2010-08-11</th>\n",
       "      <td>1089.469971</td>\n",
       "      <td>1103.570925</td>\n",
       "      <td>-14.100955</td>\n",
       "      <td>Moderate Risk</td>\n",
       "    </tr>\n",
       "    <tr>\n",
       "      <th>2010-08-12</th>\n",
       "      <td>1083.609985</td>\n",
       "      <td>1085.352795</td>\n",
       "      <td>-1.742810</td>\n",
       "      <td>Low Risk</td>\n",
       "    </tr>\n",
       "    <tr>\n",
       "      <th>...</th>\n",
       "      <td>...</td>\n",
       "      <td>...</td>\n",
       "      <td>...</td>\n",
       "      <td>...</td>\n",
       "    </tr>\n",
       "    <tr>\n",
       "      <th>2023-09-26</th>\n",
       "      <td>4273.529785</td>\n",
       "      <td>4283.515178</td>\n",
       "      <td>-9.985393</td>\n",
       "      <td>Low Risk</td>\n",
       "    </tr>\n",
       "    <tr>\n",
       "      <th>2023-09-27</th>\n",
       "      <td>4274.509766</td>\n",
       "      <td>4272.117615</td>\n",
       "      <td>2.392151</td>\n",
       "      <td>Low Risk</td>\n",
       "    </tr>\n",
       "    <tr>\n",
       "      <th>2023-09-28</th>\n",
       "      <td>4299.700195</td>\n",
       "      <td>4299.589468</td>\n",
       "      <td>0.110728</td>\n",
       "      <td>Low Risk</td>\n",
       "    </tr>\n",
       "    <tr>\n",
       "      <th>2023-09-29</th>\n",
       "      <td>4288.049805</td>\n",
       "      <td>4294.905583</td>\n",
       "      <td>-6.855779</td>\n",
       "      <td>Low Risk</td>\n",
       "    </tr>\n",
       "    <tr>\n",
       "      <th>2023-10-02</th>\n",
       "      <td>4263.640137</td>\n",
       "      <td>4280.023496</td>\n",
       "      <td>-16.383359</td>\n",
       "      <td>Very Risky</td>\n",
       "    </tr>\n",
       "  </tbody>\n",
       "</table>\n",
       "<p>3311 rows × 4 columns</p>\n",
       "</div>"
      ],
      "text/plain": [
       "                  Close  Predictions  residuals     Risk Level\n",
       "Date                                                          \n",
       "2010-08-06  1121.640015  1118.178493   3.461522       Low Risk\n",
       "2010-08-09  1127.790039  1134.124010  -6.333971       Low Risk\n",
       "2010-08-10  1121.060059  1122.050932  -0.990873       Low Risk\n",
       "2010-08-11  1089.469971  1103.570925 -14.100955  Moderate Risk\n",
       "2010-08-12  1083.609985  1085.352795  -1.742810       Low Risk\n",
       "...                 ...          ...        ...            ...\n",
       "2023-09-26  4273.529785  4283.515178  -9.985393       Low Risk\n",
       "2023-09-27  4274.509766  4272.117615   2.392151       Low Risk\n",
       "2023-09-28  4299.700195  4299.589468   0.110728       Low Risk\n",
       "2023-09-29  4288.049805  4294.905583  -6.855779       Low Risk\n",
       "2023-10-02  4263.640137  4280.023496 -16.383359     Very Risky\n",
       "\n",
       "[3311 rows x 4 columns]"
      ]
     },
     "execution_count": 30,
     "metadata": {},
     "output_type": "execute_result"
    }
   ],
   "source": [
    "preds['residuals'] = preds['Close'] - preds['Predictions']\n",
    "\n",
    "high_risk_threshold =15\n",
    "moderate_risk_threshold = 20\n",
    "low_risk_threshold = 10\n",
    "\n",
    "def categorize_risk(residual):\n",
    "    if abs(residual) > high_risk_threshold:\n",
    "        return 'Very Risky'\n",
    "    elif abs(residual) > moderate_risk_threshold:\n",
    "        return 'Risky'\n",
    "    elif abs(residual) > low_risk_threshold:\n",
    "        return 'Moderate Risk'\n",
    "    else:\n",
    "        return 'Low Risk'\n",
    "\n",
    "preds['Risk Level'] = preds['residuals'].apply(categorize_risk)\n",
    "\n",
    "preds"
   ]
  },
  {
   "cell_type": "markdown",
   "id": "d7cda862",
   "metadata": {},
   "source": [
    "### Entraînement du modèle avec le Backtest et la création des caractéristiques"
   ]
  },
  {
   "cell_type": "code",
   "execution_count": 31,
   "id": "ddc5a1e3",
   "metadata": {},
   "outputs": [
    {
     "name": "stderr",
     "output_type": "stream",
     "text": [
      "<ipython-input-31-da2101e94b31>:8: SettingWithCopyWarning: \n",
      "A value is trying to be set on a copy of a slice from a DataFrame.\n",
      "Try using .loc[row_indexer,col_indexer] = value instead\n",
      "\n",
      "See the caveats in the documentation: https://pandas.pydata.org/pandas-docs/stable/user_guide/indexing.html#returning-a-view-versus-a-copy\n",
      "  data[trend_column] = data.shift(1).rolling(horizon).sum()[\"Close\"]\n",
      "<ipython-input-31-da2101e94b31>:8: SettingWithCopyWarning: \n",
      "A value is trying to be set on a copy of a slice from a DataFrame.\n",
      "Try using .loc[row_indexer,col_indexer] = value instead\n",
      "\n",
      "See the caveats in the documentation: https://pandas.pydata.org/pandas-docs/stable/user_guide/indexing.html#returning-a-view-versus-a-copy\n",
      "  data[trend_column] = data.shift(1).rolling(horizon).sum()[\"Close\"]\n",
      "<ipython-input-31-da2101e94b31>:8: SettingWithCopyWarning: \n",
      "A value is trying to be set on a copy of a slice from a DataFrame.\n",
      "Try using .loc[row_indexer,col_indexer] = value instead\n",
      "\n",
      "See the caveats in the documentation: https://pandas.pydata.org/pandas-docs/stable/user_guide/indexing.html#returning-a-view-versus-a-copy\n",
      "  data[trend_column] = data.shift(1).rolling(horizon).sum()[\"Close\"]\n",
      "<ipython-input-31-da2101e94b31>:13: SettingWithCopyWarning: \n",
      "A value is trying to be set on a copy of a slice from a DataFrame.\n",
      "Try using .loc[row_indexer,col_indexer] = value instead\n",
      "\n",
      "See the caveats in the documentation: https://pandas.pydata.org/pandas-docs/stable/user_guide/indexing.html#returning-a-view-versus-a-copy\n",
      "  data['7_day_avg'] = data['Close'].rolling(window=7).mean()\n",
      "<ipython-input-31-da2101e94b31>:16: SettingWithCopyWarning: \n",
      "A value is trying to be set on a copy of a slice from a DataFrame.\n",
      "Try using .loc[row_indexer,col_indexer] = value instead\n",
      "\n",
      "See the caveats in the documentation: https://pandas.pydata.org/pandas-docs/stable/user_guide/indexing.html#returning-a-view-versus-a-copy\n",
      "  data['daily_variation'] = data['Close'].diff()\n",
      "<ipython-input-31-da2101e94b31>:17: SettingWithCopyWarning: \n",
      "A value is trying to be set on a copy of a slice from a DataFrame.\n",
      "Try using .loc[row_indexer,col_indexer] = value instead\n",
      "\n",
      "See the caveats in the documentation: https://pandas.pydata.org/pandas-docs/stable/user_guide/indexing.html#returning-a-view-versus-a-copy\n",
      "  data['SMA_50'] = data['Close'].rolling(window=50).mean()\n"
     ]
    }
   ],
   "source": [
    "horizons = [2,5,60]\n",
    "new_predictors = predictors.copy()\n",
    "\n",
    "for horizon in horizons:\n",
    "    rolling_averages = data.rolling(horizon).mean()\n",
    "    \n",
    "    trend_column = f\"Trend_{horizon}\"\n",
    "    data[trend_column] = data.shift(1).rolling(horizon).sum()[\"Close\"]\n",
    "    \n",
    "    new_predictors+= [trend_column]   \n",
    "\n",
    "# Calculate 7-day moving averages\n",
    "data['7_day_avg'] = data['Close'].rolling(window=7).mean()\n",
    "\n",
    "# Calculate daily variations\n",
    "data['daily_variation'] = data['Close'].diff()\n",
    "data['SMA_50'] = data['Close'].rolling(window=50).mean()\n",
    "\n",
    "new_predictors+=['7_day_avg','daily_variation','SMA_50']"
   ]
  },
  {
   "cell_type": "code",
   "execution_count": 32,
   "id": "60645c50",
   "metadata": {},
   "outputs": [],
   "source": [
    "data=data.dropna()"
   ]
  },
  {
   "cell_type": "code",
   "execution_count": 33,
   "id": "e514355c",
   "metadata": {},
   "outputs": [
    {
     "data": {
      "text/html": [
       "<div>\n",
       "<style scoped>\n",
       "    .dataframe tbody tr th:only-of-type {\n",
       "        vertical-align: middle;\n",
       "    }\n",
       "\n",
       "    .dataframe tbody tr th {\n",
       "        vertical-align: top;\n",
       "    }\n",
       "\n",
       "    .dataframe thead th {\n",
       "        text-align: right;\n",
       "    }\n",
       "</style>\n",
       "<table border=\"1\" class=\"dataframe\">\n",
       "  <thead>\n",
       "    <tr style=\"text-align: right;\">\n",
       "      <th></th>\n",
       "      <th>Open</th>\n",
       "      <th>High</th>\n",
       "      <th>Low</th>\n",
       "      <th>Close</th>\n",
       "      <th>Volume</th>\n",
       "      <th>SMA_50</th>\n",
       "      <th>RSI</th>\n",
       "      <th>Trend_2</th>\n",
       "      <th>Trend_5</th>\n",
       "      <th>Trend_60</th>\n",
       "      <th>7_day_avg</th>\n",
       "      <th>daily_variation</th>\n",
       "    </tr>\n",
       "    <tr>\n",
       "      <th>Date</th>\n",
       "      <th></th>\n",
       "      <th></th>\n",
       "      <th></th>\n",
       "      <th></th>\n",
       "      <th></th>\n",
       "      <th></th>\n",
       "      <th></th>\n",
       "      <th></th>\n",
       "      <th></th>\n",
       "      <th></th>\n",
       "      <th></th>\n",
       "      <th></th>\n",
       "    </tr>\n",
       "  </thead>\n",
       "  <tbody>\n",
       "    <tr>\n",
       "      <th>2010-06-10</th>\n",
       "      <td>1058.770020</td>\n",
       "      <td>1087.849976</td>\n",
       "      <td>1058.770020</td>\n",
       "      <td>1086.839966</td>\n",
       "      <td>5144780000</td>\n",
       "      <td>1148.122197</td>\n",
       "      <td>53.210117</td>\n",
       "      <td>2117.689941</td>\n",
       "      <td>5335.869873</td>\n",
       "      <td>69157.179810</td>\n",
       "      <td>1074.441406</td>\n",
       "      <td>31.150024</td>\n",
       "    </tr>\n",
       "    <tr>\n",
       "      <th>2010-06-11</th>\n",
       "      <td>1082.650024</td>\n",
       "      <td>1092.250000</td>\n",
       "      <td>1077.119995</td>\n",
       "      <td>1091.599976</td>\n",
       "      <td>4059280000</td>\n",
       "      <td>1146.565596</td>\n",
       "      <td>50.864324</td>\n",
       "      <td>2142.529907</td>\n",
       "      <td>5319.879883</td>\n",
       "      <td>69084.559814</td>\n",
       "      <td>1073.472831</td>\n",
       "      <td>4.760010</td>\n",
       "    </tr>\n",
       "    <tr>\n",
       "      <th>2010-06-14</th>\n",
       "      <td>1095.000000</td>\n",
       "      <td>1105.910034</td>\n",
       "      <td>1089.030029</td>\n",
       "      <td>1089.630005</td>\n",
       "      <td>4425830000</td>\n",
       "      <td>1144.796196</td>\n",
       "      <td>53.731542</td>\n",
       "      <td>2178.439941</td>\n",
       "      <td>5346.599854</td>\n",
       "      <td>69009.949829</td>\n",
       "      <td>1071.587123</td>\n",
       "      <td>-1.969971</td>\n",
       "    </tr>\n",
       "    <tr>\n",
       "      <th>2010-06-15</th>\n",
       "      <td>1091.209961</td>\n",
       "      <td>1115.589966</td>\n",
       "      <td>1091.209961</td>\n",
       "      <td>1115.229980</td>\n",
       "      <td>4644490000</td>\n",
       "      <td>1143.351997</td>\n",
       "      <td>58.606980</td>\n",
       "      <td>2181.229980</td>\n",
       "      <td>5385.759888</td>\n",
       "      <td>68933.749878</td>\n",
       "      <td>1078.779977</td>\n",
       "      <td>25.599976</td>\n",
       "    </tr>\n",
       "    <tr>\n",
       "      <th>2010-06-16</th>\n",
       "      <td>1114.020020</td>\n",
       "      <td>1118.739990</td>\n",
       "      <td>1107.130005</td>\n",
       "      <td>1114.609985</td>\n",
       "      <td>5002600000</td>\n",
       "      <td>1141.855398</td>\n",
       "      <td>59.975198</td>\n",
       "      <td>2204.859985</td>\n",
       "      <td>5438.989868</td>\n",
       "      <td>68889.079834</td>\n",
       "      <td>1087.942836</td>\n",
       "      <td>-0.619995</td>\n",
       "    </tr>\n",
       "    <tr>\n",
       "      <th>...</th>\n",
       "      <td>...</td>\n",
       "      <td>...</td>\n",
       "      <td>...</td>\n",
       "      <td>...</td>\n",
       "      <td>...</td>\n",
       "      <td>...</td>\n",
       "      <td>...</td>\n",
       "      <td>...</td>\n",
       "      <td>...</td>\n",
       "      <td>...</td>\n",
       "      <td>...</td>\n",
       "      <td>...</td>\n",
       "    </tr>\n",
       "    <tr>\n",
       "      <th>2023-09-26</th>\n",
       "      <td>4312.879883</td>\n",
       "      <td>4313.009766</td>\n",
       "      <td>4265.979980</td>\n",
       "      <td>4273.529785</td>\n",
       "      <td>3472340000</td>\n",
       "      <td>4468.565000</td>\n",
       "      <td>25.527165</td>\n",
       "      <td>8657.500000</td>\n",
       "      <td>21833.650391</td>\n",
       "      <td>268177.249512</td>\n",
       "      <td>4365.815709</td>\n",
       "      <td>-63.910156</td>\n",
       "    </tr>\n",
       "    <tr>\n",
       "      <th>2023-09-27</th>\n",
       "      <td>4282.629883</td>\n",
       "      <td>4292.069824</td>\n",
       "      <td>4238.629883</td>\n",
       "      <td>4274.509766</td>\n",
       "      <td>3875880000</td>\n",
       "      <td>4462.955596</td>\n",
       "      <td>26.686156</td>\n",
       "      <td>8610.969727</td>\n",
       "      <td>21663.229980</td>\n",
       "      <td>268000.399414</td>\n",
       "      <td>4340.241420</td>\n",
       "      <td>0.979980</td>\n",
       "    </tr>\n",
       "    <tr>\n",
       "      <th>2023-09-28</th>\n",
       "      <td>4269.649902</td>\n",
       "      <td>4317.270020</td>\n",
       "      <td>4264.379883</td>\n",
       "      <td>4299.700195</td>\n",
       "      <td>3846230000</td>\n",
       "      <td>4457.635195</td>\n",
       "      <td>30.159703</td>\n",
       "      <td>8548.039551</td>\n",
       "      <td>21535.539551</td>\n",
       "      <td>267819.319336</td>\n",
       "      <td>4319.634277</td>\n",
       "      <td>25.190430</td>\n",
       "    </tr>\n",
       "    <tr>\n",
       "      <th>2023-09-29</th>\n",
       "      <td>4328.180176</td>\n",
       "      <td>4333.149902</td>\n",
       "      <td>4274.859863</td>\n",
       "      <td>4288.049805</td>\n",
       "      <td>3865960000</td>\n",
       "      <td>4452.698789</td>\n",
       "      <td>23.715551</td>\n",
       "      <td>8574.209961</td>\n",
       "      <td>21505.239746</td>\n",
       "      <td>267672.199707</td>\n",
       "      <td>4303.327079</td>\n",
       "      <td>-11.650391</td>\n",
       "    </tr>\n",
       "    <tr>\n",
       "      <th>2023-10-02</th>\n",
       "      <td>4284.520020</td>\n",
       "      <td>4300.580078</td>\n",
       "      <td>4260.209961</td>\n",
       "      <td>4263.640137</td>\n",
       "      <td>1521664000</td>\n",
       "      <td>4447.244795</td>\n",
       "      <td>23.787691</td>\n",
       "      <td>8587.750000</td>\n",
       "      <td>21473.229492</td>\n",
       "      <td>267548.659668</td>\n",
       "      <td>4293.847098</td>\n",
       "      <td>-24.409668</td>\n",
       "    </tr>\n",
       "  </tbody>\n",
       "</table>\n",
       "<p>3351 rows × 12 columns</p>\n",
       "</div>"
      ],
      "text/plain": [
       "                   Open         High          Low        Close      Volume  \\\n",
       "Date                                                                         \n",
       "2010-06-10  1058.770020  1087.849976  1058.770020  1086.839966  5144780000   \n",
       "2010-06-11  1082.650024  1092.250000  1077.119995  1091.599976  4059280000   \n",
       "2010-06-14  1095.000000  1105.910034  1089.030029  1089.630005  4425830000   \n",
       "2010-06-15  1091.209961  1115.589966  1091.209961  1115.229980  4644490000   \n",
       "2010-06-16  1114.020020  1118.739990  1107.130005  1114.609985  5002600000   \n",
       "...                 ...          ...          ...          ...         ...   \n",
       "2023-09-26  4312.879883  4313.009766  4265.979980  4273.529785  3472340000   \n",
       "2023-09-27  4282.629883  4292.069824  4238.629883  4274.509766  3875880000   \n",
       "2023-09-28  4269.649902  4317.270020  4264.379883  4299.700195  3846230000   \n",
       "2023-09-29  4328.180176  4333.149902  4274.859863  4288.049805  3865960000   \n",
       "2023-10-02  4284.520020  4300.580078  4260.209961  4263.640137  1521664000   \n",
       "\n",
       "                 SMA_50        RSI      Trend_2       Trend_5       Trend_60  \\\n",
       "Date                                                                           \n",
       "2010-06-10  1148.122197  53.210117  2117.689941   5335.869873   69157.179810   \n",
       "2010-06-11  1146.565596  50.864324  2142.529907   5319.879883   69084.559814   \n",
       "2010-06-14  1144.796196  53.731542  2178.439941   5346.599854   69009.949829   \n",
       "2010-06-15  1143.351997  58.606980  2181.229980   5385.759888   68933.749878   \n",
       "2010-06-16  1141.855398  59.975198  2204.859985   5438.989868   68889.079834   \n",
       "...                 ...        ...          ...           ...            ...   \n",
       "2023-09-26  4468.565000  25.527165  8657.500000  21833.650391  268177.249512   \n",
       "2023-09-27  4462.955596  26.686156  8610.969727  21663.229980  268000.399414   \n",
       "2023-09-28  4457.635195  30.159703  8548.039551  21535.539551  267819.319336   \n",
       "2023-09-29  4452.698789  23.715551  8574.209961  21505.239746  267672.199707   \n",
       "2023-10-02  4447.244795  23.787691  8587.750000  21473.229492  267548.659668   \n",
       "\n",
       "              7_day_avg  daily_variation  \n",
       "Date                                      \n",
       "2010-06-10  1074.441406        31.150024  \n",
       "2010-06-11  1073.472831         4.760010  \n",
       "2010-06-14  1071.587123        -1.969971  \n",
       "2010-06-15  1078.779977        25.599976  \n",
       "2010-06-16  1087.942836        -0.619995  \n",
       "...                 ...              ...  \n",
       "2023-09-26  4365.815709       -63.910156  \n",
       "2023-09-27  4340.241420         0.979980  \n",
       "2023-09-28  4319.634277        25.190430  \n",
       "2023-09-29  4303.327079       -11.650391  \n",
       "2023-10-02  4293.847098       -24.409668  \n",
       "\n",
       "[3351 rows x 12 columns]"
      ]
     },
     "execution_count": 33,
     "metadata": {},
     "output_type": "execute_result"
    }
   ],
   "source": [
    "data"
   ]
  },
  {
   "cell_type": "code",
   "execution_count": 34,
   "id": "7ad7a6a5",
   "metadata": {},
   "outputs": [
    {
     "data": {
      "image/png": "[encoded data removed]",
      "text/plain": [
       "<Figure size 432x432 with 2 Axes>"
      ]
     },
     "metadata": {
      "needs_background": "light"
     },
     "output_type": "display_data"
    }
   ],
   "source": [
    "import matplotlib.pyplot as plt\n",
    "import seaborn as sns\n",
    "\n",
    "plt.figure(figsize = (6,6))\n",
    "sns.heatmap(data.corr(), annot = True, cmap = \"Blues\")\n",
    "\n",
    "plt.show()"
   ]
  },
  {
   "cell_type": "code",
   "execution_count": 35,
   "id": "febd10bf",
   "metadata": {},
   "outputs": [],
   "source": [
    "predictions = backtest(data, model, new_predictors,100,10)"
   ]
  },
  {
   "cell_type": "code",
   "execution_count": 36,
   "id": "f48c0451",
   "metadata": {},
   "outputs": [
    {
     "data": {
      "text/plain": [
       "<AxesSubplot:xlabel='Date'>"
      ]
     },
     "execution_count": 36,
     "metadata": {},
     "output_type": "execute_result"
    },
    {
     "data": {
      "image/png": "[encoded data removed]",
      "text/plain": [
       "<Figure size 432x288 with 1 Axes>"
      ]
     },
     "metadata": {
      "needs_background": "light"
     },
     "output_type": "display_data"
    }
   ],
   "source": [
    "predictions.plot()"
   ]
  },
  {
   "cell_type": "code",
   "execution_count": 37,
   "id": "16f198af",
   "metadata": {},
   "outputs": [
    {
     "name": "stdout",
     "output_type": "stream",
     "text": [
      "Mean Absolute Error with Backtest: 14.1497\n",
      "Mean Squared Error with Backtest: 518.9594\n",
      "Root Mean Squared Error with Backtest: 22.7807\n",
      "Accuracy with Backtest: 99.46 %.\n"
     ]
    }
   ],
   "source": [
    "from sklearn import metrics\n",
    "import numpy as np\n",
    "\n",
    "print(\"Mean Absolute Error with Backtest:\", round(metrics.mean_absolute_error(predictions[\"Close\"],predictions[\"Predictions\"]), 4))\n",
    "print(\"Mean Squared Error with Backtest:\", round(metrics.mean_squared_error(predictions[\"Close\"],predictions[\"Predictions\"]), 4))\n",
    "print(\"Root Mean Squared Error with Backtest:\", round(np.sqrt(metrics.mean_squared_error(predictions[\"Close\"],predictions[\"Predictions\"])), 4))\n",
    "errors = abs(predictions[\"Close\"]-predictions[\"Predictions\"])\n",
    "mape = 100 * (errors / predictions[\"Close\"])\n",
    "accuracy = 100 - np.mean(mape)\n",
    "print('Accuracy with Backtest:', round(accuracy, 2), '%.') "
   ]
  },
  {
   "cell_type": "code",
   "execution_count": null,
   "id": "f41ce615",
   "metadata": {},
   "outputs": [],
   "source": [
    "# Get feature importances\n",
    "feature_importances = model.feature_importances_\n",
    "import seaborn as sns\n",
    "\n",
    "# Create a DataFrame to store feature names and importances\n",
    "feature_df = pd.DataFrame({'Feature': predictors, 'Importance': feature_importances})\n",
    "\n",
    "# Sort the DataFrame by importance\n",
    "feature_df = feature_df.sort_values(by='Importance', ascending=False)\n",
    "\n",
    "# Create the feature importance plot\n",
    "plt.figure(figsize=(6, 3))\n",
    "sns.barplot(x='Importance', y='Feature', data=feature_df)\n",
    "plt.title('Feature Importance Plot')\n",
    "plt.xlabel('Importance')\n",
    "plt.ylabel('Feature')\n",
    "plt.show()"
   ]
  },
  {
   "cell_type": "code",
   "execution_count": null,
   "id": "57ae5455",
   "metadata": {},
   "outputs": [],
   "source": [
    "predictions['residuals'] = predictions['Close'] - predictions['Predictions']\n",
    "\n",
    "high_risk_threshold = 15\n",
    "moderate_risk_threshold = 10\n",
    "low_risk_threshold = 20\n",
    "\n",
    "def categorize_risk(residual):\n",
    "    if abs(residual) > high_risk_threshold:\n",
    "        return 'Very Risky'\n",
    "    elif abs(residual) > moderate_risk_threshold:\n",
    "        return 'Risky'\n",
    "    elif abs(residual) > low_risk_threshold:\n",
    "        return 'Moderate Risk'\n",
    "    else:\n",
    "        return 'Low Risk'\n",
    "\n",
    "predictions['Risk Level'] = predictions['residuals'].apply(categorize_risk)\n",
    "\n",
    "predictions"
   ]
  },
  {
   "cell_type": "code",
   "execution_count": null,
   "id": "de46ed7a",
   "metadata": {},
   "outputs": [],
   "source": [
    "predictions[predictions['Risk Level']=='Moderate Risk'].count()"
   ]
  },
  {
   "cell_type": "code",
   "execution_count": null,
   "id": "e798d019",
   "metadata": {},
   "outputs": [],
   "source": []
  }
 ],
 "metadata": {
  "kernelspec": {
   "display_name": "Python 3",
   "language": "python",
   "name": "python3"
  },
  "language_info": {
   "codemirror_mode": {
    "name": "ipython",
    "version": 3
   },
   "file_extension": ".py",
   "mimetype": "text/x-python",
   "name": "python",
   "nbconvert_exporter": "python",
   "pygments_lexer": "ipython3",
   "version": "3.8.8"
  }
 },
 "nbformat": 4,
 "nbformat_minor": 5
}
